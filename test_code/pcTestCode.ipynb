{
 "cells": [
  {
   "cell_type": "markdown",
   "id": "49d23dea",
   "metadata": {},
   "source": [
    "# notes\n",
    "\n",
    "#### - Before using the YOLOV8 model you should install the ultralytics library\n",
    "pip install ultralytics"
   ]
  },
  {
   "cell_type": "markdown",
   "id": "dfe19374",
   "metadata": {},
   "source": [
    "# Testing  the model on a webcame"
   ]
  },
  {
   "cell_type": "code",
   "execution_count": 1,
   "id": "6a85171b",
   "metadata": {
    "scrolled": true
   },
   "outputs": [
    {
     "name": "stderr",
     "output_type": "stream",
     "text": [
      "\n",
      "0: 608x800 (no detections), 255.1ms\n",
      "Speed: 8.0ms preprocess, 255.1ms inference, 2.0ms postprocess per image at shape (1, 3, 608, 800)\n"
     ]
    },
    {
     "ename": "NameError",
     "evalue": "name 'result' is not defined",
     "output_type": "error",
     "traceback": [
      "\u001b[1;31m---------------------------------------------------------------------------\u001b[0m",
      "\u001b[1;31mNameError\u001b[0m                                 Traceback (most recent call last)",
      "\u001b[1;32m<ipython-input-1-87563f4381b3>\u001b[0m in \u001b[0;36m<module>\u001b[1;34m\u001b[0m\n\u001b[0;32m     24\u001b[0m     \u001b[1;32mif\u001b[0m \u001b[0mcv2\u001b[0m\u001b[1;33m.\u001b[0m\u001b[0mwaitKey\u001b[0m\u001b[1;33m(\u001b[0m\u001b[1;36m1\u001b[0m\u001b[1;33m)\u001b[0m \u001b[1;33m&\u001b[0m \u001b[1;36m0xFF\u001b[0m \u001b[1;33m==\u001b[0m \u001b[0mord\u001b[0m\u001b[1;33m(\u001b[0m\u001b[1;34m'q'\u001b[0m\u001b[1;33m)\u001b[0m\u001b[1;33m:\u001b[0m\u001b[1;33m\u001b[0m\u001b[1;33m\u001b[0m\u001b[0m\n\u001b[0;32m     25\u001b[0m         \u001b[1;32mbreak\u001b[0m\u001b[1;33m\u001b[0m\u001b[1;33m\u001b[0m\u001b[0m\n\u001b[1;32m---> 26\u001b[1;33m     \u001b[1;32mfor\u001b[0m \u001b[0mresults\u001b[0m \u001b[1;32min\u001b[0m \u001b[0mresult\u001b[0m\u001b[1;33m[\u001b[0m\u001b[1;36m0\u001b[0m\u001b[1;33m]\u001b[0m\u001b[1;33m.\u001b[0m\u001b[0mboxes\u001b[0m\u001b[1;33m.\u001b[0m\u001b[0mnumpy\u001b[0m\u001b[1;33m(\u001b[0m\u001b[1;33m)\u001b[0m\u001b[1;33m:\u001b[0m\u001b[1;33m\u001b[0m\u001b[1;33m\u001b[0m\u001b[0m\n\u001b[0m\u001b[0;32m     27\u001b[0m         \u001b[0mxyxy\u001b[0m \u001b[1;33m=\u001b[0m \u001b[0mresult\u001b[0m\u001b[1;33m.\u001b[0m\u001b[0mxyxy\u001b[0m\u001b[1;33m[\u001b[0m\u001b[1;36m0\u001b[0m\u001b[1;33m]\u001b[0m\u001b[1;33m\u001b[0m\u001b[1;33m\u001b[0m\u001b[0m\n\u001b[0;32m     28\u001b[0m         \u001b[0mx1\u001b[0m\u001b[1;33m,\u001b[0m \u001b[0my1\u001b[0m\u001b[1;33m,\u001b[0m \u001b[0mx2\u001b[0m\u001b[1;33m,\u001b[0m \u001b[0my2\u001b[0m \u001b[1;33m=\u001b[0m \u001b[0mmap\u001b[0m\u001b[1;33m(\u001b[0m\u001b[0mfloat\u001b[0m\u001b[1;33m,\u001b[0m \u001b[0mxyxy\u001b[0m\u001b[1;33m)\u001b[0m\u001b[1;33m\u001b[0m\u001b[1;33m\u001b[0m\u001b[0m\n",
      "\u001b[1;31mNameError\u001b[0m: name 'result' is not defined"
     ]
    }
   ],
   "source": [
    "import cv2\n",
    "from ultralytics import YOLO\n",
    "\n",
    "# Load your trained model\n",
    "model = YOLO('../model_versions/bestV1.pt')\n",
    "\n",
    "# Capture video from the camera\n",
    "cap = cv2.VideoCapture(0)\n",
    "\n",
    "while True:\n",
    "    ret, frame = cap.read()\n",
    "    if not ret:\n",
    "        break\n",
    "\n",
    "\n",
    "\n",
    "    # Run YOLOv8 inference\n",
    "    results = model(frame)\n",
    "   \n",
    "\n",
    "    # Display the results\n",
    "    cv2.imshow('YOLOv8 Inference', results[0].plot())\n",
    "\n",
    "    if cv2.waitKey(1) & 0xFF == ord('q'):\n",
    "        break\n",
    "    for results in result[0].boxes.numpy():\n",
    "        xyxy = result.xyxy[0]\n",
    "        x1, y1, x2, y2 = map(float, xyxy)\n",
    "        cls = int(result.cls[0])\n",
    "        conf = float(result.conf[0])\n",
    "        print(\"x1: \", x1, \"y1: \", y1, \"x2: \", x2, \"y2: \", y2, \"cls: \", cls, \"conf: \", conf)\n",
    "\n",
    "cap.release()\n",
    "cv2.destroyAllWindows()"
   ]
  },
  {
   "cell_type": "markdown",
   "id": "fa968cbd",
   "metadata": {},
   "source": [
    "# NOTES\n",
    "### Obersvation\n",
    "The initail tests of the model with webcome showed that the model is not effective at detecting the h_l and the logo parts when they are inversed because the model trained only on the normal position of the model.\n"
   ]
  },
  {
   "cell_type": "markdown",
   "id": "517fda46",
   "metadata": {},
   "source": [
    "# Testing the model on an image"
   ]
  },
  {
   "cell_type": "code",
   "execution_count": 5,
   "id": "f03ba33c",
   "metadata": {},
   "outputs": [
    {
     "name": "stderr",
     "output_type": "stream",
     "text": [
      "\n",
      "image 1/1 C:\\Users\\Ahmed\\Desktop\\New folder (5)\\top_tether_ai_detection\\test_code\\..\\test_images\\normal.jpg: 608x800 1 h_l, 1 logo, 1 text, 255.1ms\n",
      "Speed: 10.0ms preprocess, 255.1ms inference, 11.0ms postprocess per image at shape (1, 3, 608, 800)\n"
     ]
    },
    {
     "name": "stdout",
     "output_type": "stream",
     "text": [
      "Box coordinates: 2749.533935546875, 1770.974365234375, 3128.330322265625, 2054.586669921875, Confidence: 0.9279471635818481, Class ID: 1.0\n",
      "Box coordinates: 2750.958984375, 2081.702392578125, 3130.80712890625, 2309.92724609375, Confidence: 0.9226164817810059, Class ID: 2.0\n",
      "Box coordinates: 1572.9898681640625, 1821.4395751953125, 2595.52978515625, 1961.6376953125, Confidence: 0.7897914052009583, Class ID: 0.0\n"
     ]
    }
   ],
   "source": [
    "from ultralytics import YOLO\n",
    "\n",
    "# Load your trained model\n",
    "model = YOLO('../model_versions/bestV1.pt')\n",
    "results = model('../test_images/normal.jpg')\n",
    "for det in results[0].boxes:\n",
    "    xmin, ymin, xmax, ymax = det.xyxy[0].tolist()  # Convert tensor to list for easier handling\n",
    "    conf = det.conf.item()  # Get Python number from tensor\n",
    "    cls = det.cls.item()# Get Python number from tensor\n",
    "   \n",
    "    print(f\"Box coordinates: {xmin}, {ymin}, {xmax}, {ymax}, Confidence: {conf}, Class ID: {cls}\")"
   ]
  },
  {
   "cell_type": "code",
   "execution_count": 19,
   "id": "b5911f60",
   "metadata": {},
   "outputs": [
    {
     "name": "stdout",
     "output_type": "stream",
     "text": [
      "ultralytics.engine.results.Results object with attributes:\n",
      "\n",
      "boxes: ultralytics.engine.results.Boxes object\n",
      "keypoints: None\n",
      "masks: None\n",
      "names: {0: 'h_l', 1: 'logo', 2: 'text'}\n",
      "orig_img: array([[[246, 248, 248],\n",
      "        [248, 250, 250],\n",
      "        [248, 250, 250],\n",
      "        ...,\n",
      "        [233, 235, 236],\n",
      "        [231, 233, 234],\n",
      "        [232, 234, 235]],\n",
      "\n",
      "       [[246, 248, 248],\n",
      "        [247, 249, 249],\n",
      "        [248, 250, 250],\n",
      "        ...,\n",
      "        [231, 233, 234],\n",
      "        [229, 231, 232],\n",
      "        [230, 232, 233]],\n",
      "\n",
      "       [[246, 248, 248],\n",
      "        [246, 248, 248],\n",
      "        [247, 249, 249],\n",
      "        ...,\n",
      "        [229, 231, 232],\n",
      "        [227, 229, 230],\n",
      "        [228, 230, 231]],\n",
      "\n",
      "       ...,\n",
      "\n",
      "       [[250, 255, 255],\n",
      "        [250, 255, 255],\n",
      "        [250, 255, 255],\n",
      "        ...,\n",
      "        [121, 144, 170],\n",
      "        [120, 143, 169],\n",
      "        [120, 143, 169]],\n",
      "\n",
      "       [[251, 255, 255],\n",
      "        [251, 255, 255],\n",
      "        [251, 255, 255],\n",
      "        ...,\n",
      "        [115, 136, 163],\n",
      "        [114, 135, 162],\n",
      "        [114, 135, 162]],\n",
      "\n",
      "       [[251, 255, 255],\n",
      "        [251, 255, 255],\n",
      "        [251, 255, 255],\n",
      "        ...,\n",
      "        [114, 135, 162],\n",
      "        [114, 135, 162],\n",
      "        [114, 135, 162]]], dtype=uint8)\n",
      "orig_shape: (3096, 4128)\n",
      "path: 'C:\\\\Users\\\\Ahmed\\\\Desktop\\\\New folder (5)\\\\top_tether_ai_detection\\\\test_code\\\\..\\\\test_images\\\\normal.jpg'\n",
      "probs: None\n",
      "save_dir: None\n",
      "speed: {'preprocess': 10.00070571899414, 'inference': 255.07020950317383, 'postprocess': 11.003494262695312}\n"
     ]
    }
   ],
   "source": [
    "print(results[0])"
   ]
  },
  {
   "cell_type": "code",
   "execution_count": 30,
   "id": "b3bc7978",
   "metadata": {},
   "outputs": [],
   "source": [
    "import cv2\n",
    "from ultralytics import YOLO\n",
    "\n",
    "# Load your trained model\n",
    "model = YOLO('../model_versions/bestV1.pt')\n",
    "\n",
    "# Capture video from the camera\n",
    "cap = cv2.VideoCapture(0)\n",
    "\n",
    "while True:\n",
    "    ret, frame = cap.read()\n",
    "    if not ret:\n",
    "        break\n",
    "\n",
    "\n",
    "\n",
    "    # Run YOLOv8 inference\n",
    "    results = model(frame)\n",
    "   \n",
    "\n",
    "    # Display the results\n",
    "    cv2.imshow('YOLOv8 Inference', results[0].plot())\n",
    "\n",
    "    if cv2.waitKey(1) & 0xFF == ord('q'):\n",
    "        break\n",
    "    for results in result[0].boxes.numpy():\n",
    "        xyxy = result.xyxy[0]\n",
    "        x1, y1, x2, y2 = map(float, xyxy)\n",
    "        cls = int(result.cls[0])\n",
    "        conf = float(result.conf[0])\n",
    "        print(\"x1: \", x1, \"y1: \", y1, \"x2: \", x2, \"y2: \", y2, \"cls: \", cls, \"conf: \", conf)\n",
    "\n",
    "cap.release()\n",
    "cv2.destroyAllWindows()"
   ]
  },
  {
   "cell_type": "markdown",
   "id": "99b22047",
   "metadata": {},
   "source": [
    "# Solving the logo problmes  "
   ]
  },
  {
   "cell_type": "markdown",
   "id": "353e5c9e",
   "metadata": {},
   "source": [
    "### 1- identifying the posions of the bounding boxes in the normal correct piece\n",
    "<img src=\"../test_images/normal.jpg\" style=\"height:300px\" />"
   ]
  },
  {
   "cell_type": "code",
   "execution_count": 2,
   "id": "9a7acb2d",
   "metadata": {
    "scrolled": true
   },
   "outputs": [
    {
     "name": "stderr",
     "output_type": "stream",
     "text": [
      "\n",
      "0: 608x800 (no detections), 253.1ms\n",
      "Speed: 10.0ms preprocess, 253.1ms inference, 3.0ms postprocess per image at shape (1, 3, 608, 800)\n",
      "\n"
     ]
    },
    {
     "name": "stdout",
     "output_type": "stream",
     "text": [
      "Values are not available\n"
     ]
    },
    {
     "name": "stderr",
     "output_type": "stream",
     "text": [
      "0: 608x800 (no detections), 251.1ms\n",
      "Speed: 12.0ms preprocess, 251.1ms inference, 3.0ms postprocess per image at shape (1, 3, 608, 800)\n",
      "\n"
     ]
    },
    {
     "name": "stdout",
     "output_type": "stream",
     "text": [
      "Values are not available\n"
     ]
    },
    {
     "name": "stderr",
     "output_type": "stream",
     "text": [
      "0: 608x800 (no detections), 251.1ms\n",
      "Speed: 11.0ms preprocess, 251.1ms inference, 3.0ms postprocess per image at shape (1, 3, 608, 800)\n",
      "\n"
     ]
    },
    {
     "name": "stdout",
     "output_type": "stream",
     "text": [
      "Values are not available\n"
     ]
    },
    {
     "name": "stderr",
     "output_type": "stream",
     "text": [
      "0: 608x800 (no detections), 251.6ms\n",
      "Speed: 11.0ms preprocess, 251.6ms inference, 4.0ms postprocess per image at shape (1, 3, 608, 800)\n",
      "\n"
     ]
    },
    {
     "name": "stdout",
     "output_type": "stream",
     "text": [
      "Values are not available\n"
     ]
    },
    {
     "name": "stderr",
     "output_type": "stream",
     "text": [
      "0: 608x800 (no detections), 251.1ms\n",
      "Speed: 10.0ms preprocess, 251.1ms inference, 5.0ms postprocess per image at shape (1, 3, 608, 800)\n",
      "\n"
     ]
    },
    {
     "name": "stdout",
     "output_type": "stream",
     "text": [
      "Values are not available\n"
     ]
    },
    {
     "name": "stderr",
     "output_type": "stream",
     "text": [
      "0: 608x800 (no detections), 250.1ms\n",
      "Speed: 9.0ms preprocess, 250.1ms inference, 3.0ms postprocess per image at shape (1, 3, 608, 800)\n",
      "\n"
     ]
    },
    {
     "name": "stdout",
     "output_type": "stream",
     "text": [
      "Values are not available\n"
     ]
    },
    {
     "name": "stderr",
     "output_type": "stream",
     "text": [
      "0: 608x800 (no detections), 250.1ms\n",
      "Speed: 10.0ms preprocess, 250.1ms inference, 2.0ms postprocess per image at shape (1, 3, 608, 800)\n",
      "\n"
     ]
    },
    {
     "name": "stdout",
     "output_type": "stream",
     "text": [
      "Values are not available\n"
     ]
    },
    {
     "name": "stderr",
     "output_type": "stream",
     "text": [
      "0: 608x800 (no detections), 249.1ms\n",
      "Speed: 9.0ms preprocess, 249.1ms inference, 1.0ms postprocess per image at shape (1, 3, 608, 800)\n",
      "\n"
     ]
    },
    {
     "name": "stdout",
     "output_type": "stream",
     "text": [
      "Values are not available\n"
     ]
    },
    {
     "name": "stderr",
     "output_type": "stream",
     "text": [
      "0: 608x800 (no detections), 249.1ms\n",
      "Speed: 9.0ms preprocess, 249.1ms inference, 2.0ms postprocess per image at shape (1, 3, 608, 800)\n",
      "\n"
     ]
    },
    {
     "name": "stdout",
     "output_type": "stream",
     "text": [
      "Values are not available\n"
     ]
    },
    {
     "name": "stderr",
     "output_type": "stream",
     "text": [
      "0: 608x800 (no detections), 249.1ms\n",
      "Speed: 9.0ms preprocess, 249.1ms inference, 1.0ms postprocess per image at shape (1, 3, 608, 800)\n",
      "\n"
     ]
    },
    {
     "name": "stdout",
     "output_type": "stream",
     "text": [
      "Values are not available\n"
     ]
    },
    {
     "name": "stderr",
     "output_type": "stream",
     "text": [
      "0: 608x800 (no detections), 249.1ms\n",
      "Speed: 9.0ms preprocess, 249.1ms inference, 2.0ms postprocess per image at shape (1, 3, 608, 800)\n",
      "\n"
     ]
    },
    {
     "name": "stdout",
     "output_type": "stream",
     "text": [
      "Values are not available\n"
     ]
    },
    {
     "name": "stderr",
     "output_type": "stream",
     "text": [
      "0: 608x800 (no detections), 249.1ms\n",
      "Speed: 9.0ms preprocess, 249.1ms inference, 2.0ms postprocess per image at shape (1, 3, 608, 800)\n",
      "\n"
     ]
    },
    {
     "name": "stdout",
     "output_type": "stream",
     "text": [
      "Values are not available\n"
     ]
    },
    {
     "name": "stderr",
     "output_type": "stream",
     "text": [
      "0: 608x800 (no detections), 249.1ms\n",
      "Speed: 9.0ms preprocess, 249.1ms inference, 2.0ms postprocess per image at shape (1, 3, 608, 800)\n",
      "\n"
     ]
    },
    {
     "name": "stdout",
     "output_type": "stream",
     "text": [
      "Values are not available\n"
     ]
    },
    {
     "name": "stderr",
     "output_type": "stream",
     "text": [
      "0: 608x800 (no detections), 249.0ms\n",
      "Speed: 9.0ms preprocess, 249.0ms inference, 2.0ms postprocess per image at shape (1, 3, 608, 800)\n",
      "\n"
     ]
    },
    {
     "name": "stdout",
     "output_type": "stream",
     "text": [
      "Values are not available\n"
     ]
    },
    {
     "name": "stderr",
     "output_type": "stream",
     "text": [
      "0: 608x800 (no detections), 249.1ms\n",
      "Speed: 9.0ms preprocess, 249.1ms inference, 2.0ms postprocess per image at shape (1, 3, 608, 800)\n",
      "\n"
     ]
    },
    {
     "name": "stdout",
     "output_type": "stream",
     "text": [
      "Values are not available\n"
     ]
    },
    {
     "name": "stderr",
     "output_type": "stream",
     "text": [
      "0: 608x800 1 logo, 250.1ms\n",
      "Speed: 7.0ms preprocess, 250.1ms inference, 6.0ms postprocess per image at shape (1, 3, 608, 800)\n",
      "\n"
     ]
    },
    {
     "name": "stdout",
     "output_type": "stream",
     "text": [
      "Values are not available\n"
     ]
    },
    {
     "name": "stderr",
     "output_type": "stream",
     "text": [
      "0: 608x800 (no detections), 249.1ms\n",
      "Speed: 8.0ms preprocess, 249.1ms inference, 7.0ms postprocess per image at shape (1, 3, 608, 800)\n",
      "\n"
     ]
    },
    {
     "name": "stdout",
     "output_type": "stream",
     "text": [
      "Values are not available\n"
     ]
    },
    {
     "name": "stderr",
     "output_type": "stream",
     "text": [
      "0: 608x800 (no detections), 250.1ms\n",
      "Speed: 8.0ms preprocess, 250.1ms inference, 3.0ms postprocess per image at shape (1, 3, 608, 800)\n",
      "\n"
     ]
    },
    {
     "name": "stdout",
     "output_type": "stream",
     "text": [
      "Values are not available\n"
     ]
    },
    {
     "name": "stderr",
     "output_type": "stream",
     "text": [
      "0: 608x800 1 logo, 249.1ms\n",
      "Speed: 9.0ms preprocess, 249.1ms inference, 8.0ms postprocess per image at shape (1, 3, 608, 800)\n",
      "\n"
     ]
    },
    {
     "name": "stdout",
     "output_type": "stream",
     "text": [
      "Values are not available\n"
     ]
    },
    {
     "name": "stderr",
     "output_type": "stream",
     "text": [
      "0: 608x800 1 logo, 249.6ms\n",
      "Speed: 9.0ms preprocess, 249.6ms inference, 3.0ms postprocess per image at shape (1, 3, 608, 800)\n",
      "\n"
     ]
    },
    {
     "name": "stdout",
     "output_type": "stream",
     "text": [
      "Values are not available\n"
     ]
    },
    {
     "name": "stderr",
     "output_type": "stream",
     "text": [
      "0: 608x800 1 logo, 249.1ms\n",
      "Speed: 8.0ms preprocess, 249.1ms inference, 4.0ms postprocess per image at shape (1, 3, 608, 800)\n",
      "\n"
     ]
    },
    {
     "name": "stdout",
     "output_type": "stream",
     "text": [
      "Values are not available\n"
     ]
    },
    {
     "name": "stderr",
     "output_type": "stream",
     "text": [
      "0: 608x800 1 logo, 1 text, 249.1ms\n",
      "Speed: 7.0ms preprocess, 249.1ms inference, 3.0ms postprocess per image at shape (1, 3, 608, 800)\n",
      "\n"
     ]
    },
    {
     "name": "stdout",
     "output_type": "stream",
     "text": [
      "Values are not available\n"
     ]
    },
    {
     "name": "stderr",
     "output_type": "stream",
     "text": [
      "0: 608x800 1 logo, 249.1ms\n",
      "Speed: 8.0ms preprocess, 249.1ms inference, 3.0ms postprocess per image at shape (1, 3, 608, 800)\n",
      "\n"
     ]
    },
    {
     "name": "stdout",
     "output_type": "stream",
     "text": [
      "Values are not available\n"
     ]
    },
    {
     "name": "stderr",
     "output_type": "stream",
     "text": [
      "0: 608x800 1 logo, 1 text, 249.2ms\n",
      "Speed: 7.0ms preprocess, 249.2ms inference, 9.8ms postprocess per image at shape (1, 3, 608, 800)\n",
      "\n"
     ]
    },
    {
     "name": "stdout",
     "output_type": "stream",
     "text": [
      "Values are not available\n"
     ]
    },
    {
     "name": "stderr",
     "output_type": "stream",
     "text": [
      "0: 608x800 1 logo, 2 texts, 249.1ms\n",
      "Speed: 8.0ms preprocess, 249.1ms inference, 8.0ms postprocess per image at shape (1, 3, 608, 800)\n",
      "\n"
     ]
    },
    {
     "name": "stdout",
     "output_type": "stream",
     "text": [
      "Values are not available\n"
     ]
    },
    {
     "name": "stderr",
     "output_type": "stream",
     "text": [
      "0: 608x800 1 logo, 1 text, 250.1ms\n",
      "Speed: 10.0ms preprocess, 250.1ms inference, 3.0ms postprocess per image at shape (1, 3, 608, 800)\n",
      "\n"
     ]
    },
    {
     "name": "stdout",
     "output_type": "stream",
     "text": [
      "Values are not available\n"
     ]
    },
    {
     "name": "stderr",
     "output_type": "stream",
     "text": [
      "0: 608x800 1 logo, 1 text, 248.1ms\n",
      "Speed: 9.0ms preprocess, 248.1ms inference, 3.0ms postprocess per image at shape (1, 3, 608, 800)\n",
      "\n"
     ]
    },
    {
     "name": "stdout",
     "output_type": "stream",
     "text": [
      "Values are not available\n"
     ]
    },
    {
     "name": "stderr",
     "output_type": "stream",
     "text": [
      "0: 608x800 1 logo, 2 texts, 250.0ms\n",
      "Speed: 7.0ms preprocess, 250.0ms inference, 3.0ms postprocess per image at shape (1, 3, 608, 800)\n",
      "\n"
     ]
    },
    {
     "name": "stdout",
     "output_type": "stream",
     "text": [
      "Values are not available\n"
     ]
    },
    {
     "name": "stderr",
     "output_type": "stream",
     "text": [
      "0: 608x800 1 logo, 1 text, 249.1ms\n",
      "Speed: 7.0ms preprocess, 249.1ms inference, 3.0ms postprocess per image at shape (1, 3, 608, 800)\n",
      "\n"
     ]
    },
    {
     "name": "stdout",
     "output_type": "stream",
     "text": [
      "Values are not available\n"
     ]
    },
    {
     "name": "stderr",
     "output_type": "stream",
     "text": [
      "0: 608x800 1 logo, 249.1ms\n",
      "Speed: 7.0ms preprocess, 249.1ms inference, 3.0ms postprocess per image at shape (1, 3, 608, 800)\n",
      "\n"
     ]
    },
    {
     "name": "stdout",
     "output_type": "stream",
     "text": [
      "Values are not available\n"
     ]
    },
    {
     "name": "stderr",
     "output_type": "stream",
     "text": [
      "0: 608x800 1 logo, 1 text, 249.1ms\n",
      "Speed: 8.0ms preprocess, 249.1ms inference, 4.0ms postprocess per image at shape (1, 3, 608, 800)\n",
      "\n"
     ]
    },
    {
     "name": "stdout",
     "output_type": "stream",
     "text": [
      "Values are not available\n"
     ]
    },
    {
     "name": "stderr",
     "output_type": "stream",
     "text": [
      "0: 608x800 1 logo, 1 text, 249.1ms\n",
      "Speed: 6.0ms preprocess, 249.1ms inference, 3.0ms postprocess per image at shape (1, 3, 608, 800)\n",
      "\n"
     ]
    },
    {
     "name": "stdout",
     "output_type": "stream",
     "text": [
      "Values are not available\n"
     ]
    },
    {
     "name": "stderr",
     "output_type": "stream",
     "text": [
      "0: 608x800 1 logo, 249.1ms\n",
      "Speed: 7.0ms preprocess, 249.1ms inference, 4.0ms postprocess per image at shape (1, 3, 608, 800)\n",
      "\n"
     ]
    },
    {
     "name": "stdout",
     "output_type": "stream",
     "text": [
      "Values are not available\n"
     ]
    },
    {
     "name": "stderr",
     "output_type": "stream",
     "text": [
      "0: 608x800 1 logo, 1 text, 249.1ms\n",
      "Speed: 7.0ms preprocess, 249.1ms inference, 2.0ms postprocess per image at shape (1, 3, 608, 800)\n",
      "\n"
     ]
    },
    {
     "name": "stdout",
     "output_type": "stream",
     "text": [
      "Values are not available\n"
     ]
    },
    {
     "name": "stderr",
     "output_type": "stream",
     "text": [
      "0: 608x800 1 logo, 248.6ms\n",
      "Speed: 7.0ms preprocess, 248.6ms inference, 5.0ms postprocess per image at shape (1, 3, 608, 800)\n",
      "\n"
     ]
    },
    {
     "name": "stdout",
     "output_type": "stream",
     "text": [
      "Values are not available\n"
     ]
    },
    {
     "name": "stderr",
     "output_type": "stream",
     "text": [
      "0: 608x800 1 logo, 1 text, 250.1ms\n",
      "Speed: 7.0ms preprocess, 250.1ms inference, 4.0ms postprocess per image at shape (1, 3, 608, 800)\n",
      "\n"
     ]
    },
    {
     "name": "stdout",
     "output_type": "stream",
     "text": [
      "Values are not available\n"
     ]
    },
    {
     "name": "stderr",
     "output_type": "stream",
     "text": [
      "0: 608x800 1 logo, 1 text, 250.1ms\n",
      "Speed: 8.0ms preprocess, 250.1ms inference, 3.0ms postprocess per image at shape (1, 3, 608, 800)\n",
      "\n"
     ]
    },
    {
     "name": "stdout",
     "output_type": "stream",
     "text": [
      "Values are not available\n"
     ]
    },
    {
     "name": "stderr",
     "output_type": "stream",
     "text": [
      "0: 608x800 1 logo, 1 text, 248.7ms\n",
      "Speed: 7.0ms preprocess, 248.7ms inference, 3.0ms postprocess per image at shape (1, 3, 608, 800)\n",
      "\n"
     ]
    },
    {
     "name": "stdout",
     "output_type": "stream",
     "text": [
      "Values are not available\n"
     ]
    },
    {
     "name": "stderr",
     "output_type": "stream",
     "text": [
      "0: 608x800 1 logo, 1 text, 250.1ms\n",
      "Speed: 8.0ms preprocess, 250.1ms inference, 3.0ms postprocess per image at shape (1, 3, 608, 800)\n",
      "\n"
     ]
    },
    {
     "name": "stdout",
     "output_type": "stream",
     "text": [
      "Values are not available\n"
     ]
    },
    {
     "name": "stderr",
     "output_type": "stream",
     "text": [
      "0: 608x800 1 logo, 1 text, 249.1ms\n",
      "Speed: 7.0ms preprocess, 249.1ms inference, 3.0ms postprocess per image at shape (1, 3, 608, 800)\n",
      "\n"
     ]
    },
    {
     "name": "stdout",
     "output_type": "stream",
     "text": [
      "Values are not available\n"
     ]
    },
    {
     "name": "stderr",
     "output_type": "stream",
     "text": [
      "0: 608x800 1 logo, 249.1ms\n",
      "Speed: 7.0ms preprocess, 249.1ms inference, 3.0ms postprocess per image at shape (1, 3, 608, 800)\n",
      "\n"
     ]
    },
    {
     "name": "stdout",
     "output_type": "stream",
     "text": [
      "Values are not available\n"
     ]
    },
    {
     "name": "stderr",
     "output_type": "stream",
     "text": [
      "0: 608x800 1 logo, 1 text, 249.1ms\n",
      "Speed: 8.0ms preprocess, 249.1ms inference, 3.0ms postprocess per image at shape (1, 3, 608, 800)\n",
      "\n"
     ]
    },
    {
     "name": "stdout",
     "output_type": "stream",
     "text": [
      "Values are not available\n"
     ]
    },
    {
     "name": "stderr",
     "output_type": "stream",
     "text": [
      "0: 608x800 1 h_l, 1 logo, 248.1ms\n",
      "Speed: 8.0ms preprocess, 248.1ms inference, 4.0ms postprocess per image at shape (1, 3, 608, 800)\n",
      "\n"
     ]
    },
    {
     "name": "stdout",
     "output_type": "stream",
     "text": [
      "Values are not available\n"
     ]
    },
    {
     "name": "stderr",
     "output_type": "stream",
     "text": [
      "0: 608x800 1 logo, 1 text, 249.1ms\n",
      "Speed: 8.0ms preprocess, 249.1ms inference, 3.0ms postprocess per image at shape (1, 3, 608, 800)\n",
      "\n"
     ]
    },
    {
     "name": "stdout",
     "output_type": "stream",
     "text": [
      "Values are not available\n"
     ]
    },
    {
     "name": "stderr",
     "output_type": "stream",
     "text": [
      "0: 608x800 1 logo, 1 text, 249.1ms\n",
      "Speed: 6.0ms preprocess, 249.1ms inference, 3.0ms postprocess per image at shape (1, 3, 608, 800)\n",
      "\n"
     ]
    },
    {
     "name": "stdout",
     "output_type": "stream",
     "text": [
      "Values are not available\n"
     ]
    },
    {
     "name": "stderr",
     "output_type": "stream",
     "text": [
      "0: 608x800 1 logo, 1 text, 249.0ms\n",
      "Speed: 8.0ms preprocess, 249.0ms inference, 3.0ms postprocess per image at shape (1, 3, 608, 800)\n",
      "\n"
     ]
    },
    {
     "name": "stdout",
     "output_type": "stream",
     "text": [
      "Values are not available\n"
     ]
    },
    {
     "name": "stderr",
     "output_type": "stream",
     "text": [
      "0: 608x800 1 logo, 249.1ms\n",
      "Speed: 8.0ms preprocess, 249.1ms inference, 4.0ms postprocess per image at shape (1, 3, 608, 800)\n",
      "\n"
     ]
    },
    {
     "name": "stdout",
     "output_type": "stream",
     "text": [
      "Values are not available\n"
     ]
    },
    {
     "name": "stderr",
     "output_type": "stream",
     "text": [
      "0: 608x800 1 logo, 249.1ms\n",
      "Speed: 8.0ms preprocess, 249.1ms inference, 4.0ms postprocess per image at shape (1, 3, 608, 800)\n",
      "\n"
     ]
    },
    {
     "name": "stdout",
     "output_type": "stream",
     "text": [
      "Values are not available\n"
     ]
    },
    {
     "name": "stderr",
     "output_type": "stream",
     "text": [
      "0: 608x800 1 logo, 1 text, 248.1ms\n",
      "Speed: 8.0ms preprocess, 248.1ms inference, 4.0ms postprocess per image at shape (1, 3, 608, 800)\n",
      "\n"
     ]
    },
    {
     "name": "stdout",
     "output_type": "stream",
     "text": [
      "Values are not available\n"
     ]
    },
    {
     "name": "stderr",
     "output_type": "stream",
     "text": [
      "0: 608x800 1 logo, 1 text, 249.1ms\n",
      "Speed: 7.0ms preprocess, 249.1ms inference, 3.0ms postprocess per image at shape (1, 3, 608, 800)\n",
      "\n"
     ]
    },
    {
     "name": "stdout",
     "output_type": "stream",
     "text": [
      "Values are not available\n"
     ]
    },
    {
     "name": "stderr",
     "output_type": "stream",
     "text": [
      "0: 608x800 1 logo, 2 texts, 248.1ms\n",
      "Speed: 8.0ms preprocess, 248.1ms inference, 3.0ms postprocess per image at shape (1, 3, 608, 800)\n",
      "\n"
     ]
    },
    {
     "name": "stdout",
     "output_type": "stream",
     "text": [
      "Values are not available\n"
     ]
    },
    {
     "name": "stderr",
     "output_type": "stream",
     "text": [
      "0: 608x800 1 logo, 1 text, 248.6ms\n",
      "Speed: 8.0ms preprocess, 248.6ms inference, 4.0ms postprocess per image at shape (1, 3, 608, 800)\n",
      "\n"
     ]
    },
    {
     "name": "stdout",
     "output_type": "stream",
     "text": [
      "Values are not available\n"
     ]
    },
    {
     "name": "stderr",
     "output_type": "stream",
     "text": [
      "0: 608x800 (no detections), 248.0ms\n",
      "Speed: 7.0ms preprocess, 248.0ms inference, 2.0ms postprocess per image at shape (1, 3, 608, 800)\n",
      "\n"
     ]
    },
    {
     "name": "stdout",
     "output_type": "stream",
     "text": [
      "Values are not available\n"
     ]
    },
    {
     "name": "stderr",
     "output_type": "stream",
     "text": [
      "0: 608x800 (no detections), 249.1ms\n",
      "Speed: 8.0ms preprocess, 249.1ms inference, 2.0ms postprocess per image at shape (1, 3, 608, 800)\n",
      "\n"
     ]
    },
    {
     "name": "stdout",
     "output_type": "stream",
     "text": [
      "Values are not available\n"
     ]
    },
    {
     "name": "stderr",
     "output_type": "stream",
     "text": [
      "0: 608x800 1 logo, 249.1ms\n",
      "Speed: 9.0ms preprocess, 249.1ms inference, 3.0ms postprocess per image at shape (1, 3, 608, 800)\n",
      "\n"
     ]
    },
    {
     "name": "stdout",
     "output_type": "stream",
     "text": [
      "Values are not available\n"
     ]
    },
    {
     "name": "stderr",
     "output_type": "stream",
     "text": [
      "0: 608x800 (no detections), 248.1ms\n",
      "Speed: 7.0ms preprocess, 248.1ms inference, 2.0ms postprocess per image at shape (1, 3, 608, 800)\n",
      "\n"
     ]
    },
    {
     "name": "stdout",
     "output_type": "stream",
     "text": [
      "Values are not available\n"
     ]
    },
    {
     "name": "stderr",
     "output_type": "stream",
     "text": [
      "0: 608x800 1 logo, 1 text, 249.1ms\n",
      "Speed: 8.0ms preprocess, 249.1ms inference, 4.0ms postprocess per image at shape (1, 3, 608, 800)\n",
      "\n"
     ]
    },
    {
     "name": "stdout",
     "output_type": "stream",
     "text": [
      "Values are not available\n"
     ]
    },
    {
     "name": "stderr",
     "output_type": "stream",
     "text": [
      "0: 608x800 1 logo, 1 text, 248.1ms\n",
      "Speed: 7.0ms preprocess, 248.1ms inference, 3.0ms postprocess per image at shape (1, 3, 608, 800)\n",
      "\n"
     ]
    },
    {
     "name": "stdout",
     "output_type": "stream",
     "text": [
      "Values are not available\n"
     ]
    },
    {
     "name": "stderr",
     "output_type": "stream",
     "text": [
      "0: 608x800 1 logo, 1 text, 249.1ms\n",
      "Speed: 7.0ms preprocess, 249.1ms inference, 3.0ms postprocess per image at shape (1, 3, 608, 800)\n",
      "\n"
     ]
    },
    {
     "name": "stdout",
     "output_type": "stream",
     "text": [
      "Values are not available\n"
     ]
    },
    {
     "name": "stderr",
     "output_type": "stream",
     "text": [
      "0: 608x800 1 logo, 1 text, 249.1ms\n",
      "Speed: 7.0ms preprocess, 249.1ms inference, 3.0ms postprocess per image at shape (1, 3, 608, 800)\n",
      "\n"
     ]
    },
    {
     "name": "stdout",
     "output_type": "stream",
     "text": [
      "Values are not available\n"
     ]
    },
    {
     "name": "stderr",
     "output_type": "stream",
     "text": [
      "0: 608x800 1 logo, 1 text, 249.1ms\n",
      "Speed: 7.0ms preprocess, 249.1ms inference, 4.0ms postprocess per image at shape (1, 3, 608, 800)\n",
      "\n"
     ]
    },
    {
     "name": "stdout",
     "output_type": "stream",
     "text": [
      "Values are not available\n"
     ]
    },
    {
     "name": "stderr",
     "output_type": "stream",
     "text": [
      "0: 608x800 1 logo, 1 text, 249.0ms\n",
      "Speed: 8.0ms preprocess, 249.0ms inference, 3.0ms postprocess per image at shape (1, 3, 608, 800)\n",
      "\n"
     ]
    },
    {
     "name": "stdout",
     "output_type": "stream",
     "text": [
      "Values are not available\n"
     ]
    },
    {
     "name": "stderr",
     "output_type": "stream",
     "text": [
      "0: 608x800 (no detections), 249.1ms\n",
      "Speed: 6.0ms preprocess, 249.1ms inference, 2.0ms postprocess per image at shape (1, 3, 608, 800)\n",
      "\n"
     ]
    },
    {
     "name": "stdout",
     "output_type": "stream",
     "text": [
      "Values are not available\n"
     ]
    },
    {
     "name": "stderr",
     "output_type": "stream",
     "text": [
      "0: 608x800 (no detections), 249.1ms\n",
      "Speed: 8.0ms preprocess, 249.1ms inference, 1.0ms postprocess per image at shape (1, 3, 608, 800)\n",
      "\n"
     ]
    },
    {
     "name": "stdout",
     "output_type": "stream",
     "text": [
      "Values are not available\n"
     ]
    },
    {
     "name": "stderr",
     "output_type": "stream",
     "text": [
      "0: 608x800 (no detections), 249.1ms\n",
      "Speed: 9.0ms preprocess, 249.1ms inference, 1.0ms postprocess per image at shape (1, 3, 608, 800)\n",
      "\n"
     ]
    },
    {
     "name": "stdout",
     "output_type": "stream",
     "text": [
      "Values are not available\n"
     ]
    },
    {
     "name": "stderr",
     "output_type": "stream",
     "text": [
      "0: 608x800 (no detections), 249.6ms\n",
      "Speed: 8.0ms preprocess, 249.6ms inference, 2.0ms postprocess per image at shape (1, 3, 608, 800)\n",
      "\n"
     ]
    },
    {
     "name": "stdout",
     "output_type": "stream",
     "text": [
      "Values are not available\n"
     ]
    },
    {
     "name": "stderr",
     "output_type": "stream",
     "text": [
      "0: 608x800 (no detections), 249.1ms\n",
      "Speed: 8.0ms preprocess, 249.1ms inference, 4.0ms postprocess per image at shape (1, 3, 608, 800)\n",
      "\n"
     ]
    },
    {
     "name": "stdout",
     "output_type": "stream",
     "text": [
      "Values are not available\n"
     ]
    },
    {
     "name": "stderr",
     "output_type": "stream",
     "text": [
      "0: 608x800 (no detections), 249.1ms\n",
      "Speed: 9.0ms preprocess, 249.1ms inference, 2.0ms postprocess per image at shape (1, 3, 608, 800)\n",
      "\n"
     ]
    },
    {
     "name": "stdout",
     "output_type": "stream",
     "text": [
      "Values are not available\n"
     ]
    },
    {
     "name": "stderr",
     "output_type": "stream",
     "text": [
      "0: 608x800 (no detections), 249.1ms\n",
      "Speed: 7.0ms preprocess, 249.1ms inference, 1.0ms postprocess per image at shape (1, 3, 608, 800)\n",
      "\n"
     ]
    },
    {
     "name": "stdout",
     "output_type": "stream",
     "text": [
      "Values are not available\n"
     ]
    },
    {
     "name": "stderr",
     "output_type": "stream",
     "text": [
      "0: 608x800 (no detections), 249.0ms\n",
      "Speed: 9.0ms preprocess, 249.0ms inference, 2.0ms postprocess per image at shape (1, 3, 608, 800)\n",
      "\n"
     ]
    },
    {
     "name": "stdout",
     "output_type": "stream",
     "text": [
      "Values are not available\n"
     ]
    },
    {
     "name": "stderr",
     "output_type": "stream",
     "text": [
      "0: 608x800 (no detections), 249.1ms\n",
      "Speed: 7.0ms preprocess, 249.1ms inference, 2.0ms postprocess per image at shape (1, 3, 608, 800)\n",
      "\n"
     ]
    },
    {
     "name": "stdout",
     "output_type": "stream",
     "text": [
      "Values are not available\n"
     ]
    },
    {
     "name": "stderr",
     "output_type": "stream",
     "text": [
      "0: 608x800 (no detections), 248.1ms\n",
      "Speed: 7.0ms preprocess, 248.1ms inference, 2.0ms postprocess per image at shape (1, 3, 608, 800)\n",
      "\n"
     ]
    },
    {
     "name": "stdout",
     "output_type": "stream",
     "text": [
      "Values are not available\n"
     ]
    },
    {
     "name": "stderr",
     "output_type": "stream",
     "text": [
      "0: 608x800 (no detections), 249.1ms\n",
      "Speed: 7.0ms preprocess, 249.1ms inference, 2.0ms postprocess per image at shape (1, 3, 608, 800)\n",
      "\n"
     ]
    },
    {
     "name": "stdout",
     "output_type": "stream",
     "text": [
      "Values are not available\n"
     ]
    },
    {
     "name": "stderr",
     "output_type": "stream",
     "text": [
      "0: 608x800 (no detections), 250.5ms\n",
      "Speed: 6.0ms preprocess, 250.5ms inference, 1.0ms postprocess per image at shape (1, 3, 608, 800)\n",
      "\n"
     ]
    },
    {
     "name": "stdout",
     "output_type": "stream",
     "text": [
      "Values are not available\n"
     ]
    },
    {
     "name": "stderr",
     "output_type": "stream",
     "text": [
      "0: 608x800 (no detections), 249.1ms\n",
      "Speed: 8.0ms preprocess, 249.1ms inference, 2.0ms postprocess per image at shape (1, 3, 608, 800)\n",
      "\n"
     ]
    },
    {
     "name": "stdout",
     "output_type": "stream",
     "text": [
      "Values are not available\n"
     ]
    },
    {
     "name": "stderr",
     "output_type": "stream",
     "text": [
      "0: 608x800 (no detections), 250.1ms\n",
      "Speed: 9.0ms preprocess, 250.1ms inference, 4.0ms postprocess per image at shape (1, 3, 608, 800)\n",
      "\n"
     ]
    },
    {
     "name": "stdout",
     "output_type": "stream",
     "text": [
      "Values are not available\n"
     ]
    },
    {
     "name": "stderr",
     "output_type": "stream",
     "text": [
      "0: 608x800 (no detections), 249.1ms\n",
      "Speed: 9.0ms preprocess, 249.1ms inference, 3.0ms postprocess per image at shape (1, 3, 608, 800)\n",
      "\n"
     ]
    },
    {
     "name": "stdout",
     "output_type": "stream",
     "text": [
      "Values are not available\n"
     ]
    },
    {
     "name": "stderr",
     "output_type": "stream",
     "text": [
      "0: 608x800 (no detections), 250.1ms\n",
      "Speed: 7.0ms preprocess, 250.1ms inference, 2.0ms postprocess per image at shape (1, 3, 608, 800)\n",
      "\n"
     ]
    },
    {
     "name": "stdout",
     "output_type": "stream",
     "text": [
      "Values are not available\n"
     ]
    },
    {
     "name": "stderr",
     "output_type": "stream",
     "text": [
      "0: 608x800 (no detections), 250.1ms\n",
      "Speed: 9.0ms preprocess, 250.1ms inference, 2.0ms postprocess per image at shape (1, 3, 608, 800)\n",
      "\n"
     ]
    },
    {
     "name": "stdout",
     "output_type": "stream",
     "text": [
      "Values are not available\n"
     ]
    },
    {
     "name": "stderr",
     "output_type": "stream",
     "text": [
      "0: 608x800 1 logo, 249.1ms\n",
      "Speed: 7.0ms preprocess, 249.1ms inference, 5.0ms postprocess per image at shape (1, 3, 608, 800)\n",
      "\n"
     ]
    },
    {
     "name": "stdout",
     "output_type": "stream",
     "text": [
      "Values are not available\n"
     ]
    },
    {
     "name": "stderr",
     "output_type": "stream",
     "text": [
      "0: 608x800 (no detections), 250.1ms\n",
      "Speed: 8.0ms preprocess, 250.1ms inference, 2.0ms postprocess per image at shape (1, 3, 608, 800)\n",
      "\n"
     ]
    },
    {
     "name": "stdout",
     "output_type": "stream",
     "text": [
      "Values are not available\n"
     ]
    },
    {
     "name": "stderr",
     "output_type": "stream",
     "text": [
      "0: 608x800 1 h_l, 1 logo, 249.1ms\n",
      "Speed: 6.0ms preprocess, 249.1ms inference, 11.0ms postprocess per image at shape (1, 3, 608, 800)\n",
      "\n"
     ]
    },
    {
     "name": "stdout",
     "output_type": "stream",
     "text": [
      "Values are not available\n"
     ]
    },
    {
     "name": "stderr",
     "output_type": "stream",
     "text": [
      "0: 608x800 1 h_l, 249.6ms\n",
      "Speed: 8.0ms preprocess, 249.6ms inference, 7.0ms postprocess per image at shape (1, 3, 608, 800)\n",
      "\n"
     ]
    },
    {
     "name": "stdout",
     "output_type": "stream",
     "text": [
      "Values are not available\n"
     ]
    },
    {
     "name": "stderr",
     "output_type": "stream",
     "text": [
      "0: 608x800 1 logo, 1 text, 250.1ms\n",
      "Speed: 8.0ms preprocess, 250.1ms inference, 5.0ms postprocess per image at shape (1, 3, 608, 800)\n",
      "\n"
     ]
    },
    {
     "name": "stdout",
     "output_type": "stream",
     "text": [
      "Values are not available\n"
     ]
    },
    {
     "name": "stderr",
     "output_type": "stream",
     "text": [
      "0: 608x800 1 logo, 249.3ms\n",
      "Speed: 8.3ms preprocess, 249.3ms inference, 6.0ms postprocess per image at shape (1, 3, 608, 800)\n",
      "\n"
     ]
    },
    {
     "name": "stdout",
     "output_type": "stream",
     "text": [
      "Values are not available\n"
     ]
    },
    {
     "name": "stderr",
     "output_type": "stream",
     "text": [
      "0: 608x800 (no detections), 249.1ms\n",
      "Speed: 9.0ms preprocess, 249.1ms inference, 1.0ms postprocess per image at shape (1, 3, 608, 800)\n",
      "\n"
     ]
    },
    {
     "name": "stdout",
     "output_type": "stream",
     "text": [
      "Values are not available\n"
     ]
    },
    {
     "name": "stderr",
     "output_type": "stream",
     "text": [
      "0: 608x800 1 h_l, 249.1ms\n",
      "Speed: 8.0ms preprocess, 249.1ms inference, 3.0ms postprocess per image at shape (1, 3, 608, 800)\n",
      "\n"
     ]
    },
    {
     "name": "stdout",
     "output_type": "stream",
     "text": [
      "Values are not available\n"
     ]
    },
    {
     "name": "stderr",
     "output_type": "stream",
     "text": [
      "0: 608x800 (no detections), 249.1ms\n",
      "Speed: 9.0ms preprocess, 249.1ms inference, 2.0ms postprocess per image at shape (1, 3, 608, 800)\n",
      "\n"
     ]
    },
    {
     "name": "stdout",
     "output_type": "stream",
     "text": [
      "Values are not available\n"
     ]
    },
    {
     "name": "stderr",
     "output_type": "stream",
     "text": [
      "0: 608x800 1 text, 249.1ms\n",
      "Speed: 7.0ms preprocess, 249.1ms inference, 4.0ms postprocess per image at shape (1, 3, 608, 800)\n",
      "\n"
     ]
    },
    {
     "name": "stdout",
     "output_type": "stream",
     "text": [
      "Values are not available\n"
     ]
    },
    {
     "name": "stderr",
     "output_type": "stream",
     "text": [
      "0: 608x800 1 logo, 1 text, 249.1ms\n",
      "Speed: 7.0ms preprocess, 249.1ms inference, 3.0ms postprocess per image at shape (1, 3, 608, 800)\n",
      "\n"
     ]
    },
    {
     "name": "stdout",
     "output_type": "stream",
     "text": [
      "Values are not available\n"
     ]
    },
    {
     "name": "stderr",
     "output_type": "stream",
     "text": [
      "0: 608x800 1 logo, 1 text, 249.1ms\n",
      "Speed: 8.0ms preprocess, 249.1ms inference, 2.0ms postprocess per image at shape (1, 3, 608, 800)\n",
      "\n"
     ]
    },
    {
     "name": "stdout",
     "output_type": "stream",
     "text": [
      "Values are not available\n"
     ]
    },
    {
     "name": "stderr",
     "output_type": "stream",
     "text": [
      "0: 608x800 1 logo, 249.0ms\n",
      "Speed: 7.0ms preprocess, 249.0ms inference, 4.0ms postprocess per image at shape (1, 3, 608, 800)\n",
      "\n"
     ]
    },
    {
     "name": "stdout",
     "output_type": "stream",
     "text": [
      "Values are not available\n"
     ]
    },
    {
     "name": "stderr",
     "output_type": "stream",
     "text": [
      "0: 608x800 1 logo, 1 text, 249.1ms\n",
      "Speed: 8.0ms preprocess, 249.1ms inference, 3.0ms postprocess per image at shape (1, 3, 608, 800)\n",
      "\n"
     ]
    },
    {
     "name": "stdout",
     "output_type": "stream",
     "text": [
      "Values are not available\n"
     ]
    },
    {
     "name": "stderr",
     "output_type": "stream",
     "text": [
      "0: 608x800 1 logo, 2 texts, 249.1ms\n",
      "Speed: 8.0ms preprocess, 249.1ms inference, 3.0ms postprocess per image at shape (1, 3, 608, 800)\n",
      "\n"
     ]
    },
    {
     "name": "stdout",
     "output_type": "stream",
     "text": [
      "Values are not available\n"
     ]
    },
    {
     "name": "stderr",
     "output_type": "stream",
     "text": [
      "0: 608x800 (no detections), 249.1ms\n",
      "Speed: 8.0ms preprocess, 249.1ms inference, 1.0ms postprocess per image at shape (1, 3, 608, 800)\n",
      "\n"
     ]
    },
    {
     "name": "stdout",
     "output_type": "stream",
     "text": [
      "Values are not available\n"
     ]
    },
    {
     "name": "stderr",
     "output_type": "stream",
     "text": [
      "0: 608x800 (no detections), 249.1ms\n",
      "Speed: 8.0ms preprocess, 249.1ms inference, 3.0ms postprocess per image at shape (1, 3, 608, 800)\n",
      "\n"
     ]
    },
    {
     "name": "stdout",
     "output_type": "stream",
     "text": [
      "Values are not available\n"
     ]
    },
    {
     "name": "stderr",
     "output_type": "stream",
     "text": [
      "0: 608x800 (no detections), 249.1ms\n",
      "Speed: 9.0ms preprocess, 249.1ms inference, 3.0ms postprocess per image at shape (1, 3, 608, 800)\n",
      "\n"
     ]
    },
    {
     "name": "stdout",
     "output_type": "stream",
     "text": [
      "Values are not available\n"
     ]
    },
    {
     "name": "stderr",
     "output_type": "stream",
     "text": [
      "0: 608x800 1 text, 250.1ms\n",
      "Speed: 7.0ms preprocess, 250.1ms inference, 5.0ms postprocess per image at shape (1, 3, 608, 800)\n",
      "\n"
     ]
    },
    {
     "name": "stdout",
     "output_type": "stream",
     "text": [
      "Values are not available\n"
     ]
    },
    {
     "name": "stderr",
     "output_type": "stream",
     "text": [
      "0: 608x800 2 logos, 1 text, 249.1ms\n",
      "Speed: 8.0ms preprocess, 249.1ms inference, 3.0ms postprocess per image at shape (1, 3, 608, 800)\n",
      "\n"
     ]
    },
    {
     "name": "stdout",
     "output_type": "stream",
     "text": [
      "Values are not available\n"
     ]
    },
    {
     "name": "stderr",
     "output_type": "stream",
     "text": [
      "0: 608x800 1 logo, 2 texts, 249.1ms\n",
      "Speed: 8.0ms preprocess, 249.1ms inference, 2.0ms postprocess per image at shape (1, 3, 608, 800)\n",
      "\n"
     ]
    },
    {
     "name": "stdout",
     "output_type": "stream",
     "text": [
      "Values are not available\n"
     ]
    },
    {
     "name": "stderr",
     "output_type": "stream",
     "text": [
      "0: 608x800 (no detections), 250.0ms\n",
      "Speed: 8.0ms preprocess, 250.0ms inference, 1.0ms postprocess per image at shape (1, 3, 608, 800)\n",
      "\n"
     ]
    },
    {
     "name": "stdout",
     "output_type": "stream",
     "text": [
      "Values are not available\n"
     ]
    },
    {
     "name": "stderr",
     "output_type": "stream",
     "text": [
      "0: 608x800 (no detections), 249.1ms\n",
      "Speed: 8.0ms preprocess, 249.1ms inference, 1.0ms postprocess per image at shape (1, 3, 608, 800)\n",
      "\n"
     ]
    },
    {
     "name": "stdout",
     "output_type": "stream",
     "text": [
      "Values are not available\n"
     ]
    },
    {
     "name": "stderr",
     "output_type": "stream",
     "text": [
      "0: 608x800 (no detections), 249.0ms\n",
      "Speed: 7.0ms preprocess, 249.0ms inference, 1.0ms postprocess per image at shape (1, 3, 608, 800)\n",
      "\n"
     ]
    },
    {
     "name": "stdout",
     "output_type": "stream",
     "text": [
      "Values are not available\n"
     ]
    },
    {
     "name": "stderr",
     "output_type": "stream",
     "text": [
      "0: 608x800 (no detections), 250.1ms\n",
      "Speed: 7.0ms preprocess, 250.1ms inference, 6.0ms postprocess per image at shape (1, 3, 608, 800)\n",
      "\n"
     ]
    },
    {
     "name": "stdout",
     "output_type": "stream",
     "text": [
      "Values are not available\n"
     ]
    },
    {
     "name": "stderr",
     "output_type": "stream",
     "text": [
      "0: 608x800 (no detections), 250.1ms\n",
      "Speed: 8.0ms preprocess, 250.1ms inference, 5.0ms postprocess per image at shape (1, 3, 608, 800)\n",
      "\n"
     ]
    },
    {
     "name": "stdout",
     "output_type": "stream",
     "text": [
      "Values are not available\n"
     ]
    },
    {
     "name": "stderr",
     "output_type": "stream",
     "text": [
      "0: 608x800 (no detections), 249.1ms\n",
      "Speed: 9.0ms preprocess, 249.1ms inference, 4.0ms postprocess per image at shape (1, 3, 608, 800)\n",
      "\n"
     ]
    },
    {
     "name": "stdout",
     "output_type": "stream",
     "text": [
      "Values are not available\n"
     ]
    },
    {
     "name": "stderr",
     "output_type": "stream",
     "text": [
      "0: 608x800 (no detections), 250.1ms\n",
      "Speed: 10.0ms preprocess, 250.1ms inference, 4.0ms postprocess per image at shape (1, 3, 608, 800)\n",
      "\n"
     ]
    },
    {
     "name": "stdout",
     "output_type": "stream",
     "text": [
      "Values are not available\n"
     ]
    },
    {
     "name": "stderr",
     "output_type": "stream",
     "text": [
      "0: 608x800 (no detections), 250.0ms\n",
      "Speed: 8.0ms preprocess, 250.0ms inference, 1.0ms postprocess per image at shape (1, 3, 608, 800)\n",
      "\n"
     ]
    },
    {
     "name": "stdout",
     "output_type": "stream",
     "text": [
      "Values are not available\n"
     ]
    },
    {
     "name": "stderr",
     "output_type": "stream",
     "text": [
      "0: 608x800 (no detections), 249.1ms\n",
      "Speed: 7.0ms preprocess, 249.1ms inference, 1.0ms postprocess per image at shape (1, 3, 608, 800)\n",
      "\n"
     ]
    },
    {
     "name": "stdout",
     "output_type": "stream",
     "text": [
      "Values are not available\n"
     ]
    },
    {
     "name": "stderr",
     "output_type": "stream",
     "text": [
      "0: 608x800 (no detections), 248.6ms\n",
      "Speed: 7.0ms preprocess, 248.6ms inference, 2.0ms postprocess per image at shape (1, 3, 608, 800)\n",
      "\n"
     ]
    },
    {
     "name": "stdout",
     "output_type": "stream",
     "text": [
      "Values are not available\n"
     ]
    },
    {
     "name": "stderr",
     "output_type": "stream",
     "text": [
      "0: 608x800 1 h_l, 1 logo, 248.7ms\n",
      "Speed: 8.0ms preprocess, 248.7ms inference, 3.0ms postprocess per image at shape (1, 3, 608, 800)\n",
      "\n"
     ]
    },
    {
     "name": "stdout",
     "output_type": "stream",
     "text": [
      "Values are not available\n"
     ]
    },
    {
     "name": "stderr",
     "output_type": "stream",
     "text": [
      "0: 608x800 (no detections), 248.1ms\n",
      "Speed: 7.0ms preprocess, 248.1ms inference, 3.0ms postprocess per image at shape (1, 3, 608, 800)\n",
      "\n"
     ]
    },
    {
     "name": "stdout",
     "output_type": "stream",
     "text": [
      "Values are not available\n"
     ]
    },
    {
     "name": "stderr",
     "output_type": "stream",
     "text": [
      "0: 608x800 1 h_l, 2 logos, 249.1ms\n",
      "Speed: 12.0ms preprocess, 249.1ms inference, 3.0ms postprocess per image at shape (1, 3, 608, 800)\n",
      "\n"
     ]
    },
    {
     "name": "stdout",
     "output_type": "stream",
     "text": [
      "Values are not available\n"
     ]
    },
    {
     "name": "stderr",
     "output_type": "stream",
     "text": [
      "0: 608x800 1 h_l, 1 logo, 1 text, 249.1ms\n",
      "Speed: 8.0ms preprocess, 249.1ms inference, 3.0ms postprocess per image at shape (1, 3, 608, 800)\n",
      "\n"
     ]
    },
    {
     "name": "stdout",
     "output_type": "stream",
     "text": [
      "314.66822814941406\n",
      "307.40174865722656\n",
      "1.0236383804709261\n"
     ]
    },
    {
     "name": "stderr",
     "output_type": "stream",
     "text": [
      "0: 608x800 1 logo, 249.1ms\n",
      "Speed: 7.0ms preprocess, 249.1ms inference, 4.0ms postprocess per image at shape (1, 3, 608, 800)\n",
      "\n"
     ]
    },
    {
     "name": "stdout",
     "output_type": "stream",
     "text": [
      "Values are not available\n"
     ]
    },
    {
     "name": "stderr",
     "output_type": "stream",
     "text": [
      "0: 608x800 1 h_l, 1 logo, 1 text, 250.6ms\n",
      "Speed: 7.0ms preprocess, 250.6ms inference, 3.0ms postprocess per image at shape (1, 3, 608, 800)\n",
      "\n"
     ]
    },
    {
     "name": "stdout",
     "output_type": "stream",
     "text": [
      "330.4878387451172\n",
      "321.75840759277344\n",
      "1.027130390213119\n"
     ]
    },
    {
     "name": "stderr",
     "output_type": "stream",
     "text": [
      "0: 608x800 1 h_l, 1 logo, 1 text, 249.0ms\n",
      "Speed: 9.0ms preprocess, 249.0ms inference, 4.0ms postprocess per image at shape (1, 3, 608, 800)\n",
      "\n"
     ]
    },
    {
     "name": "stdout",
     "output_type": "stream",
     "text": [
      "348.6441955566406\n",
      "340.46295166015625\n",
      "1.0240297625823638\n"
     ]
    },
    {
     "name": "stderr",
     "output_type": "stream",
     "text": [
      "0: 608x800 1 h_l, 1 logo, 1 text, 249.1ms\n",
      "Speed: 7.0ms preprocess, 249.1ms inference, 11.0ms postprocess per image at shape (1, 3, 608, 800)\n",
      "\n"
     ]
    },
    {
     "name": "stdout",
     "output_type": "stream",
     "text": [
      "348.73712158203125\n",
      "340.4079284667969\n",
      "1.0244682700333956\n"
     ]
    },
    {
     "name": "stderr",
     "output_type": "stream",
     "text": [
      "0: 608x800 1 h_l, 1 logo, 1 text, 248.6ms\n",
      "Speed: 8.0ms preprocess, 248.6ms inference, 4.0ms postprocess per image at shape (1, 3, 608, 800)\n",
      "\n"
     ]
    },
    {
     "name": "stdout",
     "output_type": "stream",
     "text": [
      "350.04107666015625\n",
      "340.051025390625\n",
      "1.0293780948257851\n"
     ]
    },
    {
     "name": "stderr",
     "output_type": "stream",
     "text": [
      "0: 608x800 1 h_l, 1 logo, 1 text, 250.0ms\n",
      "Speed: 9.0ms preprocess, 250.0ms inference, 4.0ms postprocess per image at shape (1, 3, 608, 800)\n",
      "\n"
     ]
    },
    {
     "name": "stdout",
     "output_type": "stream",
     "text": [
      "350.0386199951172\n",
      "339.9198760986328\n",
      "1.029768026549728\n"
     ]
    },
    {
     "name": "stderr",
     "output_type": "stream",
     "text": [
      "0: 608x800 1 h_l, 1 logo, 1 text, 248.1ms\n",
      "Speed: 8.0ms preprocess, 248.1ms inference, 4.0ms postprocess per image at shape (1, 3, 608, 800)\n",
      "\n"
     ]
    },
    {
     "name": "stdout",
     "output_type": "stream",
     "text": [
      "357.81681060791016\n",
      "348.0449905395508\n",
      "1.0280763129307242\n"
     ]
    },
    {
     "name": "stderr",
     "output_type": "stream",
     "text": [
      "0: 608x800 1 h_l, 1 logo, 1 text, 248.1ms\n",
      "Speed: 8.0ms preprocess, 248.1ms inference, 3.0ms postprocess per image at shape (1, 3, 608, 800)\n",
      "\n"
     ]
    },
    {
     "name": "stdout",
     "output_type": "stream",
     "text": [
      "361.3534698486328\n",
      "350.56227111816406\n",
      "1.030782544556346\n"
     ]
    },
    {
     "name": "stderr",
     "output_type": "stream",
     "text": [
      "0: 608x800 1 h_l, 1 logo, 1 text, 249.1ms\n",
      "Speed: 6.0ms preprocess, 249.1ms inference, 4.0ms postprocess per image at shape (1, 3, 608, 800)\n",
      "\n"
     ]
    },
    {
     "name": "stdout",
     "output_type": "stream",
     "text": [
      "356.0972671508789\n",
      "346.62247467041016\n",
      "1.027334616687732\n"
     ]
    },
    {
     "name": "stderr",
     "output_type": "stream",
     "text": [
      "0: 608x800 1 h_l, 1 logo, 1 text, 249.1ms\n",
      "Speed: 10.0ms preprocess, 249.1ms inference, 4.0ms postprocess per image at shape (1, 3, 608, 800)\n",
      "\n"
     ]
    },
    {
     "name": "stdout",
     "output_type": "stream",
     "text": [
      "355.48909759521484\n",
      "346.6288375854492\n",
      "1.025561231637519\n"
     ]
    },
    {
     "name": "stderr",
     "output_type": "stream",
     "text": [
      "0: 608x800 1 h_l, 1 logo, 1 text, 250.1ms\n",
      "Speed: 7.0ms preprocess, 250.1ms inference, 4.0ms postprocess per image at shape (1, 3, 608, 800)\n",
      "\n"
     ]
    },
    {
     "name": "stdout",
     "output_type": "stream",
     "text": [
      "356.4381790161133\n",
      "348.36808013916016\n",
      "1.0231654371827907\n"
     ]
    },
    {
     "name": "stderr",
     "output_type": "stream",
     "text": [
      "0: 608x800 1 h_l, 1 logo, 1 text, 249.1ms\n",
      "Speed: 9.0ms preprocess, 249.1ms inference, 4.0ms postprocess per image at shape (1, 3, 608, 800)\n",
      "\n"
     ]
    },
    {
     "name": "stdout",
     "output_type": "stream",
     "text": [
      "357.99061584472656\n",
      "348.35511779785156\n",
      "1.0276599870493834\n"
     ]
    },
    {
     "name": "stderr",
     "output_type": "stream",
     "text": [
      "0: 608x800 1 h_l, 1 logo, 1 text, 249.1ms\n",
      "Speed: 7.0ms preprocess, 249.1ms inference, 3.0ms postprocess per image at shape (1, 3, 608, 800)\n",
      "\n"
     ]
    },
    {
     "name": "stdout",
     "output_type": "stream",
     "text": [
      "358.4196243286133\n",
      "348.95450592041016\n",
      "1.0271242189099627\n"
     ]
    },
    {
     "name": "stderr",
     "output_type": "stream",
     "text": [
      "0: 608x800 1 h_l, 1 logo, 1 text, 248.1ms\n",
      "Speed: 8.0ms preprocess, 248.1ms inference, 3.0ms postprocess per image at shape (1, 3, 608, 800)\n",
      "\n"
     ]
    },
    {
     "name": "stdout",
     "output_type": "stream",
     "text": [
      "359.1643753051758\n",
      "349.81925201416016\n",
      "1.0267141480556288\n"
     ]
    },
    {
     "name": "stderr",
     "output_type": "stream",
     "text": [
      "0: 608x800 1 h_l, 1 logo, 1 text, 248.1ms\n",
      "Speed: 8.0ms preprocess, 248.1ms inference, 2.0ms postprocess per image at shape (1, 3, 608, 800)\n",
      "\n"
     ]
    },
    {
     "name": "stdout",
     "output_type": "stream",
     "text": [
      "356.85741424560547\n",
      "348.24666595458984\n",
      "1.0247260035280235\n"
     ]
    },
    {
     "name": "stderr",
     "output_type": "stream",
     "text": [
      "0: 608x800 1 h_l, 1 logo, 1 text, 248.1ms\n",
      "Speed: 8.0ms preprocess, 248.1ms inference, 2.0ms postprocess per image at shape (1, 3, 608, 800)\n",
      "\n"
     ]
    },
    {
     "name": "stdout",
     "output_type": "stream",
     "text": [
      "359.03617095947266\n",
      "349.5868606567383\n",
      "1.0270299355215546\n"
     ]
    },
    {
     "name": "stderr",
     "output_type": "stream",
     "text": [
      "0: 608x800 1 h_l, 1 logo, 1 text, 248.0ms\n",
      "Speed: 9.0ms preprocess, 248.0ms inference, 3.0ms postprocess per image at shape (1, 3, 608, 800)\n",
      "\n"
     ]
    },
    {
     "name": "stdout",
     "output_type": "stream",
     "text": [
      "358.9972381591797\n",
      "352.4412078857422\n",
      "1.0186017699597798\n"
     ]
    },
    {
     "name": "stderr",
     "output_type": "stream",
     "text": [
      "0: 608x800 1 h_l, 1 logo, 1 text, 249.2ms\n",
      "Speed: 8.0ms preprocess, 249.2ms inference, 3.0ms postprocess per image at shape (1, 3, 608, 800)\n",
      "\n"
     ]
    },
    {
     "name": "stdout",
     "output_type": "stream",
     "text": [
      "357.43751525878906\n",
      "349.2699432373047\n",
      "1.0233846976518535\n"
     ]
    },
    {
     "name": "stderr",
     "output_type": "stream",
     "text": [
      "0: 608x800 1 h_l, 1 logo, 1 text, 249.1ms\n",
      "Speed: 7.0ms preprocess, 249.1ms inference, 3.0ms postprocess per image at shape (1, 3, 608, 800)\n",
      "\n"
     ]
    },
    {
     "name": "stdout",
     "output_type": "stream",
     "text": [
      "354.4068298339844\n",
      "346.30084228515625\n",
      "1.0234073573004867\n"
     ]
    },
    {
     "name": "stderr",
     "output_type": "stream",
     "text": [
      "0: 608x800 1 h_l, 1 logo, 1 text, 250.0ms\n",
      "Speed: 7.0ms preprocess, 250.0ms inference, 3.0ms postprocess per image at shape (1, 3, 608, 800)\n",
      "\n"
     ]
    },
    {
     "name": "stdout",
     "output_type": "stream",
     "text": [
      "352.04803466796875\n",
      "345.6202087402344\n",
      "1.0185979458526555\n"
     ]
    },
    {
     "name": "stderr",
     "output_type": "stream",
     "text": [
      "0: 608x800 1 h_l, 1 logo, 1 text, 249.1ms\n",
      "Speed: 7.0ms preprocess, 249.1ms inference, 4.0ms postprocess per image at shape (1, 3, 608, 800)\n",
      "\n"
     ]
    },
    {
     "name": "stdout",
     "output_type": "stream",
     "text": [
      "351.86900329589844\n",
      "345.7377471923828\n",
      "1.0177338348308955\n"
     ]
    },
    {
     "name": "stderr",
     "output_type": "stream",
     "text": [
      "0: 608x800 2 h_ls, 1 logo, 1 text, 250.1ms\n",
      "Speed: 8.0ms preprocess, 250.1ms inference, 4.0ms postprocess per image at shape (1, 3, 608, 800)\n",
      "\n"
     ]
    },
    {
     "name": "stdout",
     "output_type": "stream",
     "text": [
      "354.01856994628906\n",
      "345.7453155517578\n",
      "1.0239287533985193\n"
     ]
    },
    {
     "name": "stderr",
     "output_type": "stream",
     "text": [
      "0: 608x800 1 h_l, 1 logo, 1 text, 249.1ms\n",
      "Speed: 8.0ms preprocess, 249.1ms inference, 3.0ms postprocess per image at shape (1, 3, 608, 800)\n",
      "\n"
     ]
    },
    {
     "name": "stdout",
     "output_type": "stream",
     "text": [
      "351.4525451660156\n",
      "342.1365661621094\n",
      "1.0272288317744214\n"
     ]
    },
    {
     "name": "stderr",
     "output_type": "stream",
     "text": [
      "0: 608x800 1 h_l, 1 logo, 1 text, 248.1ms\n",
      "Speed: 8.0ms preprocess, 248.1ms inference, 3.0ms postprocess per image at shape (1, 3, 608, 800)\n",
      "\n"
     ]
    },
    {
     "name": "stdout",
     "output_type": "stream",
     "text": [
      "351.56105041503906\n",
      "341.4958038330078\n",
      "1.0294739978326444\n"
     ]
    },
    {
     "name": "stderr",
     "output_type": "stream",
     "text": [
      "0: 608x800 1 h_l, 1 logo, 1 text, 249.1ms\n",
      "Speed: 6.0ms preprocess, 249.1ms inference, 3.0ms postprocess per image at shape (1, 3, 608, 800)\n",
      "\n"
     ]
    },
    {
     "name": "stdout",
     "output_type": "stream",
     "text": [
      "347.0982360839844\n",
      "339.1167907714844\n",
      "1.0235359779571584\n"
     ]
    },
    {
     "name": "stderr",
     "output_type": "stream",
     "text": [
      "0: 608x800 1 h_l, 1 logo, 1 text, 248.1ms\n",
      "Speed: 7.0ms preprocess, 248.1ms inference, 4.0ms postprocess per image at shape (1, 3, 608, 800)\n",
      "\n"
     ]
    },
    {
     "name": "stdout",
     "output_type": "stream",
     "text": [
      "348.7323760986328\n",
      "340.57066345214844\n",
      "1.02396481412625\n"
     ]
    },
    {
     "name": "stderr",
     "output_type": "stream",
     "text": [
      "0: 608x800 1 h_l, 1 logo, 1 text, 248.1ms\n",
      "Speed: 7.0ms preprocess, 248.1ms inference, 3.0ms postprocess per image at shape (1, 3, 608, 800)\n",
      "\n"
     ]
    },
    {
     "name": "stdout",
     "output_type": "stream",
     "text": [
      "353.9506530761719\n",
      "346.3256530761719\n",
      "1.0220168501301372\n"
     ]
    },
    {
     "name": "stderr",
     "output_type": "stream",
     "text": [
      "0: 608x800 1 h_l, 1 logo, 1 text, 249.1ms\n",
      "Speed: 8.0ms preprocess, 249.1ms inference, 4.0ms postprocess per image at shape (1, 3, 608, 800)\n",
      "\n"
     ]
    },
    {
     "name": "stdout",
     "output_type": "stream",
     "text": [
      "333.36497497558594\n",
      "323.3123321533203\n",
      "1.0310926674380565\n"
     ]
    },
    {
     "name": "stderr",
     "output_type": "stream",
     "text": [
      "0: 608x800 1 logo, 1 text, 250.1ms\n",
      "Speed: 7.0ms preprocess, 250.1ms inference, 4.0ms postprocess per image at shape (1, 3, 608, 800)\n",
      "\n"
     ]
    },
    {
     "name": "stdout",
     "output_type": "stream",
     "text": [
      "Values are not available\n"
     ]
    },
    {
     "name": "stderr",
     "output_type": "stream",
     "text": [
      "0: 608x800 1 h_l, 1 logo, 1 text, 249.1ms\n",
      "Speed: 9.0ms preprocess, 249.1ms inference, 3.0ms postprocess per image at shape (1, 3, 608, 800)\n",
      "\n"
     ]
    },
    {
     "name": "stdout",
     "output_type": "stream",
     "text": [
      "347.40277099609375\n",
      "341.30816650390625\n",
      "1.0178566031824432\n"
     ]
    },
    {
     "name": "stderr",
     "output_type": "stream",
     "text": [
      "0: 608x800 1 h_l, 1 logo, 1 text, 249.1ms\n",
      "Speed: 7.0ms preprocess, 249.1ms inference, 3.0ms postprocess per image at shape (1, 3, 608, 800)\n",
      "\n"
     ]
    },
    {
     "name": "stdout",
     "output_type": "stream",
     "text": [
      "342.46063232421875\n",
      "335.5529479980469\n",
      "1.0205859741879308\n"
     ]
    },
    {
     "name": "stderr",
     "output_type": "stream",
     "text": [
      "0: 608x800 1 logo, 1 text, 249.1ms\n",
      "Speed: 7.0ms preprocess, 249.1ms inference, 3.0ms postprocess per image at shape (1, 3, 608, 800)\n",
      "\n"
     ]
    },
    {
     "name": "stdout",
     "output_type": "stream",
     "text": [
      "Values are not available\n"
     ]
    },
    {
     "name": "stderr",
     "output_type": "stream",
     "text": [
      "0: 608x800 1 h_l, 1 logo, 248.1ms\n",
      "Speed: 9.0ms preprocess, 248.1ms inference, 4.0ms postprocess per image at shape (1, 3, 608, 800)\n",
      "\n"
     ]
    },
    {
     "name": "stdout",
     "output_type": "stream",
     "text": [
      "Values are not available\n"
     ]
    },
    {
     "name": "stderr",
     "output_type": "stream",
     "text": [
      "0: 608x800 1 h_l, 1 logo, 1 text, 249.1ms\n",
      "Speed: 8.0ms preprocess, 249.1ms inference, 2.9ms postprocess per image at shape (1, 3, 608, 800)\n",
      "\n"
     ]
    },
    {
     "name": "stdout",
     "output_type": "stream",
     "text": [
      "338.41966247558594\n",
      "330.91673278808594\n",
      "1.0226731650112864\n"
     ]
    },
    {
     "name": "stderr",
     "output_type": "stream",
     "text": [
      "0: 608x800 1 h_l, 1 logo, 1 text, 248.1ms\n",
      "Speed: 7.0ms preprocess, 248.1ms inference, 4.0ms postprocess per image at shape (1, 3, 608, 800)\n",
      "\n"
     ]
    },
    {
     "name": "stdout",
     "output_type": "stream",
     "text": [
      "336.7893981933594\n",
      "328.8852233886719\n",
      "1.0240332317859913\n"
     ]
    },
    {
     "name": "stderr",
     "output_type": "stream",
     "text": [
      "0: 608x800 1 h_l, 1 logo, 1 text, 249.1ms\n",
      "Speed: 8.0ms preprocess, 249.1ms inference, 4.0ms postprocess per image at shape (1, 3, 608, 800)\n",
      "\n"
     ]
    },
    {
     "name": "stdout",
     "output_type": "stream",
     "text": [
      "334.3518829345703\n",
      "328.42323303222656\n",
      "1.018051859022294\n"
     ]
    },
    {
     "name": "stderr",
     "output_type": "stream",
     "text": [
      "0: 608x800 1 h_l, 1 logo, 1 text, 248.1ms\n",
      "Speed: 9.0ms preprocess, 248.1ms inference, 4.0ms postprocess per image at shape (1, 3, 608, 800)\n",
      "\n"
     ]
    },
    {
     "name": "stdout",
     "output_type": "stream",
     "text": [
      "335.9965057373047\n",
      "328.1143341064453\n",
      "1.0240226372685757\n"
     ]
    },
    {
     "name": "stderr",
     "output_type": "stream",
     "text": [
      "0: 608x800 1 h_l, 1 logo, 1 text, 250.0ms\n",
      "Speed: 9.0ms preprocess, 250.0ms inference, 4.0ms postprocess per image at shape (1, 3, 608, 800)\n",
      "\n"
     ]
    },
    {
     "name": "stdout",
     "output_type": "stream",
     "text": [
      "337.7628936767578\n",
      "329.98170471191406\n",
      "1.0235806678180446\n"
     ]
    },
    {
     "name": "stderr",
     "output_type": "stream",
     "text": [
      "0: 608x800 1 h_l, 1 logo, 1 text, 249.1ms\n",
      "Speed: 9.0ms preprocess, 249.1ms inference, 4.0ms postprocess per image at shape (1, 3, 608, 800)\n",
      "\n"
     ]
    },
    {
     "name": "stdout",
     "output_type": "stream",
     "text": [
      "335.26332092285156\n",
      "325.28895568847656\n",
      "1.0306630921829614\n"
     ]
    },
    {
     "name": "stderr",
     "output_type": "stream",
     "text": [
      "0: 608x800 1 h_l, 1 logo, 1 text, 250.1ms\n",
      "Speed: 8.0ms preprocess, 250.1ms inference, 3.0ms postprocess per image at shape (1, 3, 608, 800)\n",
      "\n"
     ]
    },
    {
     "name": "stdout",
     "output_type": "stream",
     "text": [
      "335.3464813232422\n",
      "327.73655700683594\n",
      "1.0232196383153178\n"
     ]
    },
    {
     "name": "stderr",
     "output_type": "stream",
     "text": [
      "0: 608x800 1 h_l, 1 logo, 1 text, 249.0ms\n",
      "Speed: 7.0ms preprocess, 249.0ms inference, 3.0ms postprocess per image at shape (1, 3, 608, 800)\n",
      "\n"
     ]
    },
    {
     "name": "stdout",
     "output_type": "stream",
     "text": [
      "334.4422302246094\n",
      "325.44378662109375\n",
      "1.0276497631033046\n"
     ]
    },
    {
     "name": "stderr",
     "output_type": "stream",
     "text": [
      "0: 608x800 1 h_l, 1 logo, 1 text, 249.1ms\n",
      "Speed: 8.0ms preprocess, 249.1ms inference, 3.0ms postprocess per image at shape (1, 3, 608, 800)\n",
      "\n"
     ]
    },
    {
     "name": "stdout",
     "output_type": "stream",
     "text": [
      "338.0357971191406\n",
      "329.7378845214844\n",
      "1.0251651781223081\n"
     ]
    },
    {
     "name": "stderr",
     "output_type": "stream",
     "text": [
      "0: 608x800 1 h_l, 1 logo, 1 text, 249.1ms\n",
      "Speed: 6.0ms preprocess, 249.1ms inference, 3.0ms postprocess per image at shape (1, 3, 608, 800)\n",
      "\n"
     ]
    },
    {
     "name": "stdout",
     "output_type": "stream",
     "text": [
      "336.92002868652344\n",
      "328.62266540527344\n",
      "1.0252489075000877\n"
     ]
    },
    {
     "name": "stderr",
     "output_type": "stream",
     "text": [
      "0: 608x800 1 h_l, 1 logo, 1 text, 248.1ms\n",
      "Speed: 9.0ms preprocess, 248.1ms inference, 3.0ms postprocess per image at shape (1, 3, 608, 800)\n",
      "\n"
     ]
    },
    {
     "name": "stdout",
     "output_type": "stream",
     "text": [
      "336.5339813232422\n",
      "326.6413116455078\n",
      "1.0302860334104662\n"
     ]
    },
    {
     "name": "stderr",
     "output_type": "stream",
     "text": [
      "0: 608x800 1 h_l, 1 logo, 1 text, 249.1ms\n",
      "Speed: 7.0ms preprocess, 249.1ms inference, 3.0ms postprocess per image at shape (1, 3, 608, 800)\n",
      "\n"
     ]
    },
    {
     "name": "stdout",
     "output_type": "stream",
     "text": [
      "334.55389404296875\n",
      "325.0272521972656\n",
      "1.0293102863876817\n"
     ]
    },
    {
     "name": "stderr",
     "output_type": "stream",
     "text": [
      "0: 608x800 1 h_l, 1 logo, 1 text, 252.1ms\n",
      "Speed: 8.0ms preprocess, 252.1ms inference, 3.0ms postprocess per image at shape (1, 3, 608, 800)\n",
      "\n"
     ]
    },
    {
     "name": "stdout",
     "output_type": "stream",
     "text": [
      "332.72569274902344\n",
      "324.33750915527344\n",
      "1.0258625146860034\n"
     ]
    },
    {
     "name": "stderr",
     "output_type": "stream",
     "text": [
      "0: 608x800 1 h_l, 1 logo, 1 text, 248.1ms\n",
      "Speed: 7.0ms preprocess, 248.1ms inference, 3.0ms postprocess per image at shape (1, 3, 608, 800)\n",
      "\n"
     ]
    },
    {
     "name": "stdout",
     "output_type": "stream",
     "text": [
      "331.6912536621094\n",
      "325.6796875\n",
      "1.0184585234905366\n"
     ]
    },
    {
     "name": "stderr",
     "output_type": "stream",
     "text": [
      "0: 608x800 1 h_l, 1 logo, 1 text, 249.0ms\n",
      "Speed: 10.0ms preprocess, 249.0ms inference, 4.0ms postprocess per image at shape (1, 3, 608, 800)\n",
      "\n"
     ]
    },
    {
     "name": "stdout",
     "output_type": "stream",
     "text": [
      "330.70957946777344\n",
      "324.7786102294922\n",
      "1.01826157589039\n"
     ]
    },
    {
     "name": "stderr",
     "output_type": "stream",
     "text": [
      "0: 608x800 1 h_l, 1 logo, 1 text, 249.1ms\n",
      "Speed: 10.0ms preprocess, 249.1ms inference, 3.0ms postprocess per image at shape (1, 3, 608, 800)\n",
      "\n"
     ]
    },
    {
     "name": "stdout",
     "output_type": "stream",
     "text": [
      "328.7053680419922\n",
      "322.86329650878906\n",
      "1.0180945669463672\n"
     ]
    },
    {
     "name": "stderr",
     "output_type": "stream",
     "text": [
      "0: 608x800 1 h_l, 1 logo, 1 text, 249.1ms\n",
      "Speed: 7.0ms preprocess, 249.1ms inference, 3.0ms postprocess per image at shape (1, 3, 608, 800)\n",
      "\n"
     ]
    },
    {
     "name": "stdout",
     "output_type": "stream",
     "text": [
      "329.4945831298828\n",
      "322.8213348388672\n",
      "1.0206716458016831\n"
     ]
    },
    {
     "name": "stderr",
     "output_type": "stream",
     "text": [
      "0: 608x800 1 h_l, 1 logo, 1 text, 249.1ms\n",
      "Speed: 7.0ms preprocess, 249.1ms inference, 3.0ms postprocess per image at shape (1, 3, 608, 800)\n",
      "\n"
     ]
    },
    {
     "name": "stdout",
     "output_type": "stream",
     "text": [
      "330.81858825683594\n",
      "323.03431701660156\n",
      "1.024097350746281\n"
     ]
    },
    {
     "name": "stderr",
     "output_type": "stream",
     "text": [
      "0: 608x800 1 h_l, 1 logo, 1 text, 249.1ms\n",
      "Speed: 7.0ms preprocess, 249.1ms inference, 3.0ms postprocess per image at shape (1, 3, 608, 800)\n",
      "\n"
     ]
    },
    {
     "name": "stdout",
     "output_type": "stream",
     "text": [
      "330.6022033691406\n",
      "323.5202331542969\n",
      "1.021890347153237\n"
     ]
    },
    {
     "name": "stderr",
     "output_type": "stream",
     "text": [
      "0: 608x800 1 h_l, 1 logo, 1 text, 249.1ms\n",
      "Speed: 7.0ms preprocess, 249.1ms inference, 3.0ms postprocess per image at shape (1, 3, 608, 800)\n",
      "\n"
     ]
    },
    {
     "name": "stdout",
     "output_type": "stream",
     "text": [
      "330.3317413330078\n",
      "320.2972869873047\n",
      "1.031328564909452\n"
     ]
    },
    {
     "name": "stderr",
     "output_type": "stream",
     "text": [
      "0: 608x800 1 h_l, 1 logo, 1 text, 249.1ms\n",
      "Speed: 7.0ms preprocess, 249.1ms inference, 3.0ms postprocess per image at shape (1, 3, 608, 800)\n",
      "\n"
     ]
    },
    {
     "name": "stdout",
     "output_type": "stream",
     "text": [
      "333.4322814941406\n",
      "326.4874572753906\n",
      "1.0212713354341576\n"
     ]
    },
    {
     "name": "stderr",
     "output_type": "stream",
     "text": [
      "0: 608x800 1 h_l, 1 logo, 1 text, 249.1ms\n",
      "Speed: 7.0ms preprocess, 249.1ms inference, 4.0ms postprocess per image at shape (1, 3, 608, 800)\n",
      "\n"
     ]
    },
    {
     "name": "stdout",
     "output_type": "stream",
     "text": [
      "329.489013671875\n",
      "322.9052429199219\n",
      "1.0203891726638388\n"
     ]
    },
    {
     "name": "stderr",
     "output_type": "stream",
     "text": [
      "0: 608x800 1 h_l, 1 logo, 1 text, 249.1ms\n",
      "Speed: 7.0ms preprocess, 249.1ms inference, 3.0ms postprocess per image at shape (1, 3, 608, 800)\n",
      "\n"
     ]
    },
    {
     "name": "stdout",
     "output_type": "stream",
     "text": [
      "328.00340270996094\n",
      "320.67811584472656\n",
      "1.0228431143358137\n"
     ]
    },
    {
     "name": "stderr",
     "output_type": "stream",
     "text": [
      "0: 608x800 1 h_l, 1 logo, 1 text, 249.2ms\n",
      "Speed: 8.0ms preprocess, 249.2ms inference, 6.9ms postprocess per image at shape (1, 3, 608, 800)\n",
      "\n"
     ]
    },
    {
     "name": "stdout",
     "output_type": "stream",
     "text": [
      "329.9824981689453\n",
      "321.7828826904297\n",
      "1.0254818261616607\n"
     ]
    },
    {
     "name": "stderr",
     "output_type": "stream",
     "text": [
      "0: 608x800 1 h_l, 1 logo, 1 text, 250.0ms\n",
      "Speed: 8.0ms preprocess, 250.0ms inference, 3.0ms postprocess per image at shape (1, 3, 608, 800)\n",
      "\n"
     ]
    },
    {
     "name": "stdout",
     "output_type": "stream",
     "text": [
      "324.26934814453125\n",
      "316.1547546386719\n",
      "1.0256665237096732\n"
     ]
    },
    {
     "name": "stderr",
     "output_type": "stream",
     "text": [
      "0: 608x800 1 h_l, 1 logo, 1 text, 249.6ms\n",
      "Speed: 7.0ms preprocess, 249.6ms inference, 3.0ms postprocess per image at shape (1, 3, 608, 800)\n",
      "\n"
     ]
    },
    {
     "name": "stdout",
     "output_type": "stream",
     "text": [
      "325.46885681152344\n",
      "314.0821075439453\n",
      "1.0362540526635537\n"
     ]
    },
    {
     "name": "stderr",
     "output_type": "stream",
     "text": [
      "0: 608x800 1 h_l, 1 logo, 1 text, 249.0ms\n",
      "Speed: 7.0ms preprocess, 249.0ms inference, 3.0ms postprocess per image at shape (1, 3, 608, 800)\n",
      "\n"
     ]
    },
    {
     "name": "stdout",
     "output_type": "stream",
     "text": [
      "326.2588348388672\n",
      "318.26087951660156\n",
      "1.0251301867022222\n"
     ]
    },
    {
     "name": "stderr",
     "output_type": "stream",
     "text": [
      "0: 608x800 1 h_l, 1 logo, 1 text, 249.1ms\n",
      "Speed: 7.0ms preprocess, 249.1ms inference, 3.0ms postprocess per image at shape (1, 3, 608, 800)\n",
      "\n"
     ]
    },
    {
     "name": "stdout",
     "output_type": "stream",
     "text": [
      "327.2099609375\n",
      "319.12481689453125\n",
      "1.0253353660227587\n"
     ]
    },
    {
     "name": "stderr",
     "output_type": "stream",
     "text": [
      "0: 608x800 1 h_l, 1 logo, 1 text, 249.1ms\n",
      "Speed: 7.0ms preprocess, 249.1ms inference, 4.0ms postprocess per image at shape (1, 3, 608, 800)\n",
      "\n"
     ]
    },
    {
     "name": "stdout",
     "output_type": "stream",
     "text": [
      "325.7102966308594\n",
      "318.1910705566406\n",
      "1.0236311662079791\n"
     ]
    },
    {
     "name": "stderr",
     "output_type": "stream",
     "text": [
      "0: 608x800 1 h_l, 1 logo, 1 text, 248.1ms\n",
      "Speed: 7.0ms preprocess, 248.1ms inference, 3.0ms postprocess per image at shape (1, 3, 608, 800)\n",
      "\n"
     ]
    },
    {
     "name": "stdout",
     "output_type": "stream",
     "text": [
      "325.81695556640625\n",
      "318.0290222167969\n",
      "1.024488121540997\n"
     ]
    },
    {
     "name": "stderr",
     "output_type": "stream",
     "text": [
      "0: 608x800 1 h_l, 1 logo, 1 text, 248.1ms\n",
      "Speed: 10.0ms preprocess, 248.1ms inference, 4.0ms postprocess per image at shape (1, 3, 608, 800)\n",
      "\n"
     ]
    },
    {
     "name": "stdout",
     "output_type": "stream",
     "text": [
      "324.0355682373047\n",
      "314.8992462158203\n",
      "1.0290134769494579\n"
     ]
    },
    {
     "name": "stderr",
     "output_type": "stream",
     "text": [
      "0: 608x800 1 h_l, 1 logo, 1 text, 248.1ms\n",
      "Speed: 8.0ms preprocess, 248.1ms inference, 3.0ms postprocess per image at shape (1, 3, 608, 800)\n",
      "\n"
     ]
    },
    {
     "name": "stdout",
     "output_type": "stream",
     "text": [
      "325.95130920410156\n",
      "318.6214141845703\n",
      "1.0230050294588335\n"
     ]
    },
    {
     "name": "stderr",
     "output_type": "stream",
     "text": [
      "0: 608x800 1 h_l, 1 logo, 1 text, 248.1ms\n",
      "Speed: 8.0ms preprocess, 248.1ms inference, 3.0ms postprocess per image at shape (1, 3, 608, 800)\n",
      "\n"
     ]
    },
    {
     "name": "stdout",
     "output_type": "stream",
     "text": [
      "321.2407531738281\n",
      "313.5244445800781\n",
      "1.0246115055050489\n"
     ]
    },
    {
     "name": "stderr",
     "output_type": "stream",
     "text": [
      "0: 608x800 1 h_l, 1 logo, 1 text, 250.0ms\n",
      "Speed: 9.0ms preprocess, 250.0ms inference, 3.0ms postprocess per image at shape (1, 3, 608, 800)\n",
      "\n"
     ]
    },
    {
     "name": "stdout",
     "output_type": "stream",
     "text": [
      "325.5715789794922\n",
      "315.57594299316406\n",
      "1.0316742648109418\n"
     ]
    },
    {
     "name": "stderr",
     "output_type": "stream",
     "text": [
      "0: 608x800 1 h_l, 1 logo, 1 text, 249.1ms\n",
      "Speed: 7.0ms preprocess, 249.1ms inference, 3.0ms postprocess per image at shape (1, 3, 608, 800)\n",
      "\n"
     ]
    },
    {
     "name": "stdout",
     "output_type": "stream",
     "text": [
      "326.67431640625\n",
      "318.66729736328125\n",
      "1.0251265790660682\n"
     ]
    },
    {
     "name": "stderr",
     "output_type": "stream",
     "text": [
      "0: 608x800 1 h_l, 1 logo, 1 text, 248.1ms\n",
      "Speed: 7.0ms preprocess, 248.1ms inference, 3.0ms postprocess per image at shape (1, 3, 608, 800)\n",
      "\n"
     ]
    },
    {
     "name": "stdout",
     "output_type": "stream",
     "text": [
      "330.0431365966797\n",
      "320.1738739013672\n",
      "1.0308246971405068\n"
     ]
    },
    {
     "name": "stderr",
     "output_type": "stream",
     "text": [
      "0: 608x800 1 h_l, 1 logo, 1 text, 249.0ms\n",
      "Speed: 8.0ms preprocess, 249.0ms inference, 3.0ms postprocess per image at shape (1, 3, 608, 800)\n",
      "\n"
     ]
    },
    {
     "name": "stdout",
     "output_type": "stream",
     "text": [
      "322.8351287841797\n",
      "316.30104064941406\n",
      "1.0206578142182212\n"
     ]
    },
    {
     "name": "stderr",
     "output_type": "stream",
     "text": [
      "0: 608x800 1 h_l, 1 logo, 1 text, 249.1ms\n",
      "Speed: 7.0ms preprocess, 249.1ms inference, 4.0ms postprocess per image at shape (1, 3, 608, 800)\n",
      "\n"
     ]
    },
    {
     "name": "stdout",
     "output_type": "stream",
     "text": [
      "329.8833923339844\n",
      "323.0254821777344\n",
      "1.021230245087837\n"
     ]
    },
    {
     "name": "stderr",
     "output_type": "stream",
     "text": [
      "0: 608x800 1 h_l, 1 logo, 1 text, 249.1ms\n",
      "Speed: 7.0ms preprocess, 249.1ms inference, 3.0ms postprocess per image at shape (1, 3, 608, 800)\n",
      "\n"
     ]
    },
    {
     "name": "stdout",
     "output_type": "stream",
     "text": [
      "330.4746856689453\n",
      "320.9501190185547\n",
      "1.0296761586489394\n"
     ]
    },
    {
     "name": "stderr",
     "output_type": "stream",
     "text": [
      "0: 608x800 1 h_l, 1 logo, 1 text, 248.1ms\n",
      "Speed: 9.0ms preprocess, 248.1ms inference, 4.0ms postprocess per image at shape (1, 3, 608, 800)\n",
      "\n"
     ]
    },
    {
     "name": "stdout",
     "output_type": "stream",
     "text": [
      "311.57537841796875\n",
      "303.60064697265625\n",
      "1.0262671753991048\n"
     ]
    },
    {
     "name": "stderr",
     "output_type": "stream",
     "text": [
      "0: 608x800 1 h_l, 1 logo, 1 text, 249.1ms\n",
      "Speed: 8.0ms preprocess, 249.1ms inference, 3.0ms postprocess per image at shape (1, 3, 608, 800)\n",
      "\n"
     ]
    },
    {
     "name": "stdout",
     "output_type": "stream",
     "text": [
      "328.99169921875\n",
      "322.1737365722656\n",
      "1.0211623787805406\n"
     ]
    },
    {
     "name": "stderr",
     "output_type": "stream",
     "text": [
      "0: 608x800 1 h_l, 1 logo, 1 text, 249.1ms\n",
      "Speed: 6.0ms preprocess, 249.1ms inference, 4.0ms postprocess per image at shape (1, 3, 608, 800)\n",
      "\n"
     ]
    },
    {
     "name": "stdout",
     "output_type": "stream",
     "text": [
      "327.96974182128906\n",
      "318.8478546142578\n",
      "1.028608902569117\n"
     ]
    },
    {
     "name": "stderr",
     "output_type": "stream",
     "text": [
      "0: 608x800 1 h_l, 1 logo, 1 text, 249.1ms\n",
      "Speed: 7.0ms preprocess, 249.1ms inference, 4.0ms postprocess per image at shape (1, 3, 608, 800)\n",
      "\n"
     ]
    },
    {
     "name": "stdout",
     "output_type": "stream",
     "text": [
      "326.06605529785156\n",
      "319.5147247314453\n",
      "1.0205040020359397\n"
     ]
    },
    {
     "name": "stderr",
     "output_type": "stream",
     "text": [
      "0: 608x800 1 h_l, 1 logo, 1 text, 249.1ms\n",
      "Speed: 7.0ms preprocess, 249.1ms inference, 3.0ms postprocess per image at shape (1, 3, 608, 800)\n",
      "\n"
     ]
    },
    {
     "name": "stdout",
     "output_type": "stream",
     "text": [
      "319.71485900878906\n",
      "312.99342346191406\n",
      "1.0214746861851967\n"
     ]
    },
    {
     "name": "stderr",
     "output_type": "stream",
     "text": [
      "0: 608x800 1 h_l, 1 logo, 1 text, 249.1ms\n",
      "Speed: 8.0ms preprocess, 249.1ms inference, 3.0ms postprocess per image at shape (1, 3, 608, 800)\n",
      "\n"
     ]
    },
    {
     "name": "stdout",
     "output_type": "stream",
     "text": [
      "317.63002014160156\n",
      "309.7519989013672\n",
      "1.0254333184876168\n"
     ]
    },
    {
     "name": "stderr",
     "output_type": "stream",
     "text": [
      "0: 608x800 1 h_l, 1 logo, 1 text, 248.1ms\n",
      "Speed: 6.0ms preprocess, 248.1ms inference, 4.0ms postprocess per image at shape (1, 3, 608, 800)\n",
      "\n"
     ]
    },
    {
     "name": "stdout",
     "output_type": "stream",
     "text": [
      "321.46250915527344\n",
      "313.3535614013672\n",
      "1.025877949871199\n"
     ]
    },
    {
     "name": "stderr",
     "output_type": "stream",
     "text": [
      "0: 608x800 1 h_l, 1 logo, 1 text, 249.1ms\n",
      "Speed: 9.0ms preprocess, 249.1ms inference, 8.0ms postprocess per image at shape (1, 3, 608, 800)\n",
      "\n"
     ]
    },
    {
     "name": "stdout",
     "output_type": "stream",
     "text": [
      "323.2715301513672\n",
      "314.58863830566406\n",
      "1.0276007801568046\n"
     ]
    },
    {
     "name": "stderr",
     "output_type": "stream",
     "text": [
      "0: 608x800 1 h_l, 1 logo, 1 text, 249.1ms\n",
      "Speed: 8.0ms preprocess, 249.1ms inference, 11.0ms postprocess per image at shape (1, 3, 608, 800)\n",
      "\n"
     ]
    },
    {
     "name": "stdout",
     "output_type": "stream",
     "text": [
      "315.76524353027344\n",
      "306.37693786621094\n",
      "1.030642990720673\n"
     ]
    },
    {
     "name": "stderr",
     "output_type": "stream",
     "text": [
      "0: 608x800 1 h_l, 1 logo, 1 text, 249.1ms\n",
      "Speed: 8.0ms preprocess, 249.1ms inference, 4.0ms postprocess per image at shape (1, 3, 608, 800)\n",
      "\n"
     ]
    },
    {
     "name": "stdout",
     "output_type": "stream",
     "text": [
      "302.41453552246094\n",
      "293.61082458496094\n",
      "1.0299842860015282\n"
     ]
    },
    {
     "name": "stderr",
     "output_type": "stream",
     "text": [
      "0: 608x800 1 h_l, 1 logo, 1 text, 248.1ms\n",
      "Speed: 7.0ms preprocess, 248.1ms inference, 4.0ms postprocess per image at shape (1, 3, 608, 800)\n",
      "\n"
     ]
    },
    {
     "name": "stdout",
     "output_type": "stream",
     "text": [
      "298.9776153564453\n",
      "289.5756378173828\n",
      "1.0324681233888595\n"
     ]
    },
    {
     "name": "stderr",
     "output_type": "stream",
     "text": [
      "0: 608x800 1 h_l, 1 logo, 1 text, 249.1ms\n",
      "Speed: 8.0ms preprocess, 249.1ms inference, 3.0ms postprocess per image at shape (1, 3, 608, 800)\n",
      "\n"
     ]
    },
    {
     "name": "stdout",
     "output_type": "stream",
     "text": [
      "299.4811096191406\n",
      "290.27838134765625\n",
      "1.0317031128145315\n"
     ]
    },
    {
     "name": "stderr",
     "output_type": "stream",
     "text": [
      "0: 608x800 1 h_l, 1 logo, 249.1ms\n",
      "Speed: 8.0ms preprocess, 249.1ms inference, 3.0ms postprocess per image at shape (1, 3, 608, 800)\n",
      "\n"
     ]
    },
    {
     "name": "stdout",
     "output_type": "stream",
     "text": [
      "Values are not available\n"
     ]
    },
    {
     "name": "stderr",
     "output_type": "stream",
     "text": [
      "0: 608x800 1 h_l, 1 logo, 1 text, 249.1ms\n",
      "Speed: 8.0ms preprocess, 249.1ms inference, 3.0ms postprocess per image at shape (1, 3, 608, 800)\n",
      "\n"
     ]
    },
    {
     "name": "stdout",
     "output_type": "stream",
     "text": [
      "290.46636962890625\n",
      "281.46136474609375\n",
      "1.0319937512238524\n"
     ]
    },
    {
     "name": "stderr",
     "output_type": "stream",
     "text": [
      "0: 608x800 1 h_l, 1 logo, 1 text, 248.1ms\n",
      "Speed: 8.0ms preprocess, 248.1ms inference, 4.0ms postprocess per image at shape (1, 3, 608, 800)\n",
      "\n"
     ]
    },
    {
     "name": "stdout",
     "output_type": "stream",
     "text": [
      "289.54937744140625\n",
      "280.94403076171875\n",
      "1.030630110404396\n"
     ]
    },
    {
     "name": "stderr",
     "output_type": "stream",
     "text": [
      "0: 608x800 1 h_l, 1 logo, 1 text, 249.1ms\n",
      "Speed: 7.0ms preprocess, 249.1ms inference, 4.0ms postprocess per image at shape (1, 3, 608, 800)\n",
      "\n"
     ]
    },
    {
     "name": "stdout",
     "output_type": "stream",
     "text": [
      "288.52093505859375\n",
      "280.27899169921875\n",
      "1.0294062116800387\n"
     ]
    },
    {
     "name": "stderr",
     "output_type": "stream",
     "text": [
      "0: 608x800 (no detections), 250.1ms\n",
      "Speed: 8.0ms preprocess, 250.1ms inference, 2.0ms postprocess per image at shape (1, 3, 608, 800)\n",
      "\n"
     ]
    },
    {
     "name": "stdout",
     "output_type": "stream",
     "text": [
      "Values are not available\n"
     ]
    },
    {
     "name": "stderr",
     "output_type": "stream",
     "text": [
      "0: 608x800 (no detections), 249.1ms\n",
      "Speed: 8.0ms preprocess, 249.1ms inference, 3.0ms postprocess per image at shape (1, 3, 608, 800)\n",
      "\n"
     ]
    },
    {
     "name": "stdout",
     "output_type": "stream",
     "text": [
      "Values are not available\n"
     ]
    },
    {
     "name": "stderr",
     "output_type": "stream",
     "text": [
      "0: 608x800 (no detections), 248.1ms\n",
      "Speed: 11.0ms preprocess, 248.1ms inference, 2.0ms postprocess per image at shape (1, 3, 608, 800)\n",
      "\n"
     ]
    },
    {
     "name": "stdout",
     "output_type": "stream",
     "text": [
      "Values are not available\n"
     ]
    },
    {
     "name": "stderr",
     "output_type": "stream",
     "text": [
      "0: 608x800 (no detections), 249.0ms\n",
      "Speed: 7.0ms preprocess, 249.0ms inference, 2.0ms postprocess per image at shape (1, 3, 608, 800)\n",
      "\n"
     ]
    },
    {
     "name": "stdout",
     "output_type": "stream",
     "text": [
      "Values are not available\n"
     ]
    },
    {
     "name": "stderr",
     "output_type": "stream",
     "text": [
      "0: 608x800 (no detections), 249.1ms\n",
      "Speed: 8.0ms preprocess, 249.1ms inference, 1.0ms postprocess per image at shape (1, 3, 608, 800)\n",
      "\n"
     ]
    },
    {
     "name": "stdout",
     "output_type": "stream",
     "text": [
      "Values are not available\n"
     ]
    },
    {
     "name": "stderr",
     "output_type": "stream",
     "text": [
      "0: 608x800 (no detections), 248.1ms\n",
      "Speed: 7.0ms preprocess, 248.1ms inference, 2.0ms postprocess per image at shape (1, 3, 608, 800)\n",
      "\n"
     ]
    },
    {
     "name": "stdout",
     "output_type": "stream",
     "text": [
      "Values are not available\n"
     ]
    },
    {
     "name": "stderr",
     "output_type": "stream",
     "text": [
      "0: 608x800 (no detections), 249.1ms\n",
      "Speed: 7.0ms preprocess, 249.1ms inference, 2.0ms postprocess per image at shape (1, 3, 608, 800)\n",
      "\n"
     ]
    },
    {
     "name": "stdout",
     "output_type": "stream",
     "text": [
      "Values are not available\n"
     ]
    },
    {
     "name": "stderr",
     "output_type": "stream",
     "text": [
      "0: 608x800 (no detections), 249.1ms\n",
      "Speed: 9.0ms preprocess, 249.1ms inference, 4.0ms postprocess per image at shape (1, 3, 608, 800)\n",
      "\n"
     ]
    },
    {
     "name": "stdout",
     "output_type": "stream",
     "text": [
      "Values are not available\n"
     ]
    },
    {
     "name": "stderr",
     "output_type": "stream",
     "text": [
      "0: 608x800 (no detections), 249.0ms\n",
      "Speed: 8.0ms preprocess, 249.0ms inference, 4.0ms postprocess per image at shape (1, 3, 608, 800)\n",
      "\n"
     ]
    },
    {
     "name": "stdout",
     "output_type": "stream",
     "text": [
      "Values are not available\n"
     ]
    },
    {
     "name": "stderr",
     "output_type": "stream",
     "text": [
      "0: 608x800 (no detections), 250.1ms\n",
      "Speed: 9.0ms preprocess, 250.1ms inference, 6.0ms postprocess per image at shape (1, 3, 608, 800)\n",
      "\n"
     ]
    },
    {
     "name": "stdout",
     "output_type": "stream",
     "text": [
      "Values are not available\n"
     ]
    },
    {
     "name": "stderr",
     "output_type": "stream",
     "text": [
      "0: 608x800 (no detections), 249.1ms\n",
      "Speed: 8.0ms preprocess, 249.1ms inference, 2.0ms postprocess per image at shape (1, 3, 608, 800)\n",
      "\n"
     ]
    },
    {
     "name": "stdout",
     "output_type": "stream",
     "text": [
      "Values are not available\n"
     ]
    },
    {
     "name": "stderr",
     "output_type": "stream",
     "text": [
      "0: 608x800 (no detections), 249.1ms\n",
      "Speed: 9.0ms preprocess, 249.1ms inference, 4.0ms postprocess per image at shape (1, 3, 608, 800)\n",
      "\n"
     ]
    },
    {
     "name": "stdout",
     "output_type": "stream",
     "text": [
      "Values are not available\n"
     ]
    },
    {
     "name": "stderr",
     "output_type": "stream",
     "text": [
      "0: 608x800 (no detections), 250.1ms\n",
      "Speed: 8.0ms preprocess, 250.1ms inference, 3.0ms postprocess per image at shape (1, 3, 608, 800)\n",
      "\n"
     ]
    },
    {
     "name": "stdout",
     "output_type": "stream",
     "text": [
      "Values are not available\n"
     ]
    },
    {
     "name": "stderr",
     "output_type": "stream",
     "text": [
      "0: 608x800 (no detections), 249.1ms\n",
      "Speed: 7.0ms preprocess, 249.1ms inference, 1.0ms postprocess per image at shape (1, 3, 608, 800)\n",
      "\n"
     ]
    },
    {
     "name": "stdout",
     "output_type": "stream",
     "text": [
      "Values are not available\n"
     ]
    },
    {
     "name": "stderr",
     "output_type": "stream",
     "text": [
      "0: 608x800 (no detections), 249.1ms\n",
      "Speed: 7.0ms preprocess, 249.1ms inference, 1.0ms postprocess per image at shape (1, 3, 608, 800)\n",
      "\n"
     ]
    },
    {
     "name": "stdout",
     "output_type": "stream",
     "text": [
      "Values are not available\n"
     ]
    },
    {
     "name": "stderr",
     "output_type": "stream",
     "text": [
      "0: 608x800 (no detections), 249.1ms\n",
      "Speed: 8.0ms preprocess, 249.1ms inference, 2.0ms postprocess per image at shape (1, 3, 608, 800)\n",
      "\n"
     ]
    },
    {
     "name": "stdout",
     "output_type": "stream",
     "text": [
      "Values are not available\n"
     ]
    },
    {
     "name": "stderr",
     "output_type": "stream",
     "text": [
      "0: 608x800 (no detections), 250.1ms\n",
      "Speed: 7.0ms preprocess, 250.1ms inference, 2.0ms postprocess per image at shape (1, 3, 608, 800)\n",
      "\n"
     ]
    },
    {
     "name": "stdout",
     "output_type": "stream",
     "text": [
      "Values are not available\n"
     ]
    },
    {
     "name": "stderr",
     "output_type": "stream",
     "text": [
      "0: 608x800 (no detections), 249.1ms\n",
      "Speed: 7.0ms preprocess, 249.1ms inference, 2.0ms postprocess per image at shape (1, 3, 608, 800)\n",
      "\n"
     ]
    },
    {
     "name": "stdout",
     "output_type": "stream",
     "text": [
      "Values are not available\n"
     ]
    },
    {
     "name": "stderr",
     "output_type": "stream",
     "text": [
      "0: 608x800 (no detections), 249.1ms\n",
      "Speed: 8.0ms preprocess, 249.1ms inference, 8.0ms postprocess per image at shape (1, 3, 608, 800)\n",
      "\n"
     ]
    },
    {
     "name": "stdout",
     "output_type": "stream",
     "text": [
      "Values are not available\n"
     ]
    },
    {
     "name": "stderr",
     "output_type": "stream",
     "text": [
      "0: 608x800 (no detections), 249.0ms\n",
      "Speed: 9.0ms preprocess, 249.0ms inference, 3.0ms postprocess per image at shape (1, 3, 608, 800)\n",
      "\n"
     ]
    },
    {
     "name": "stdout",
     "output_type": "stream",
     "text": [
      "Values are not available\n"
     ]
    },
    {
     "name": "stderr",
     "output_type": "stream",
     "text": [
      "0: 608x800 (no detections), 250.6ms\n",
      "Speed: 9.0ms preprocess, 250.6ms inference, 3.0ms postprocess per image at shape (1, 3, 608, 800)\n",
      "\n"
     ]
    },
    {
     "name": "stdout",
     "output_type": "stream",
     "text": [
      "Values are not available\n"
     ]
    },
    {
     "name": "stderr",
     "output_type": "stream",
     "text": [
      "0: 608x800 (no detections), 250.1ms\n",
      "Speed: 8.0ms preprocess, 250.1ms inference, 4.0ms postprocess per image at shape (1, 3, 608, 800)\n",
      "\n"
     ]
    },
    {
     "name": "stdout",
     "output_type": "stream",
     "text": [
      "Values are not available\n"
     ]
    },
    {
     "name": "stderr",
     "output_type": "stream",
     "text": [
      "0: 608x800 (no detections), 251.1ms\n",
      "Speed: 9.0ms preprocess, 251.1ms inference, 3.0ms postprocess per image at shape (1, 3, 608, 800)\n",
      "\n"
     ]
    },
    {
     "name": "stdout",
     "output_type": "stream",
     "text": [
      "Values are not available\n"
     ]
    },
    {
     "name": "stderr",
     "output_type": "stream",
     "text": [
      "0: 608x800 (no detections), 250.1ms\n",
      "Speed: 8.0ms preprocess, 250.1ms inference, 2.0ms postprocess per image at shape (1, 3, 608, 800)\n",
      "\n"
     ]
    },
    {
     "name": "stdout",
     "output_type": "stream",
     "text": [
      "Values are not available\n"
     ]
    },
    {
     "name": "stderr",
     "output_type": "stream",
     "text": [
      "0: 608x800 (no detections), 249.1ms\n",
      "Speed: 8.0ms preprocess, 249.1ms inference, 2.0ms postprocess per image at shape (1, 3, 608, 800)\n",
      "\n"
     ]
    },
    {
     "name": "stdout",
     "output_type": "stream",
     "text": [
      "Values are not available\n"
     ]
    },
    {
     "name": "stderr",
     "output_type": "stream",
     "text": [
      "0: 608x800 (no detections), 250.1ms\n",
      "Speed: 7.0ms preprocess, 250.1ms inference, 1.0ms postprocess per image at shape (1, 3, 608, 800)\n",
      "\n"
     ]
    },
    {
     "name": "stdout",
     "output_type": "stream",
     "text": [
      "Values are not available\n"
     ]
    },
    {
     "name": "stderr",
     "output_type": "stream",
     "text": [
      "0: 608x800 (no detections), 249.1ms\n",
      "Speed: 8.0ms preprocess, 249.1ms inference, 1.0ms postprocess per image at shape (1, 3, 608, 800)\n",
      "\n"
     ]
    },
    {
     "name": "stdout",
     "output_type": "stream",
     "text": [
      "Values are not available\n"
     ]
    },
    {
     "name": "stderr",
     "output_type": "stream",
     "text": [
      "0: 608x800 (no detections), 249.1ms\n",
      "Speed: 6.0ms preprocess, 249.1ms inference, 4.0ms postprocess per image at shape (1, 3, 608, 800)\n",
      "\n"
     ]
    },
    {
     "name": "stdout",
     "output_type": "stream",
     "text": [
      "Values are not available\n"
     ]
    },
    {
     "name": "stderr",
     "output_type": "stream",
     "text": [
      "0: 608x800 (no detections), 250.1ms\n",
      "Speed: 9.0ms preprocess, 250.1ms inference, 3.0ms postprocess per image at shape (1, 3, 608, 800)\n",
      "\n"
     ]
    },
    {
     "name": "stdout",
     "output_type": "stream",
     "text": [
      "Values are not available\n"
     ]
    },
    {
     "name": "stderr",
     "output_type": "stream",
     "text": [
      "0: 608x800 (no detections), 249.1ms\n",
      "Speed: 9.0ms preprocess, 249.1ms inference, 3.0ms postprocess per image at shape (1, 3, 608, 800)\n",
      "\n"
     ]
    },
    {
     "name": "stdout",
     "output_type": "stream",
     "text": [
      "Values are not available\n"
     ]
    },
    {
     "name": "stderr",
     "output_type": "stream",
     "text": [
      "0: 608x800 (no detections), 250.1ms\n",
      "Speed: 8.0ms preprocess, 250.1ms inference, 3.0ms postprocess per image at shape (1, 3, 608, 800)\n",
      "\n"
     ]
    },
    {
     "name": "stdout",
     "output_type": "stream",
     "text": [
      "Values are not available\n"
     ]
    },
    {
     "name": "stderr",
     "output_type": "stream",
     "text": [
      "0: 608x800 (no detections), 250.1ms\n",
      "Speed: 10.0ms preprocess, 250.1ms inference, 4.0ms postprocess per image at shape (1, 3, 608, 800)\n",
      "\n"
     ]
    },
    {
     "name": "stdout",
     "output_type": "stream",
     "text": [
      "Values are not available\n"
     ]
    },
    {
     "name": "stderr",
     "output_type": "stream",
     "text": [
      "0: 608x800 (no detections), 250.1ms\n",
      "Speed: 8.0ms preprocess, 250.1ms inference, 2.0ms postprocess per image at shape (1, 3, 608, 800)\n",
      "\n"
     ]
    },
    {
     "name": "stdout",
     "output_type": "stream",
     "text": [
      "Values are not available\n"
     ]
    },
    {
     "name": "stderr",
     "output_type": "stream",
     "text": [
      "0: 608x800 (no detections), 249.1ms\n",
      "Speed: 8.0ms preprocess, 249.1ms inference, 2.0ms postprocess per image at shape (1, 3, 608, 800)\n",
      "\n"
     ]
    },
    {
     "name": "stdout",
     "output_type": "stream",
     "text": [
      "Values are not available\n"
     ]
    },
    {
     "name": "stderr",
     "output_type": "stream",
     "text": [
      "0: 608x800 (no detections), 249.0ms\n",
      "Speed: 8.0ms preprocess, 249.0ms inference, 2.0ms postprocess per image at shape (1, 3, 608, 800)\n",
      "\n"
     ]
    },
    {
     "name": "stdout",
     "output_type": "stream",
     "text": [
      "Values are not available\n"
     ]
    },
    {
     "name": "stderr",
     "output_type": "stream",
     "text": [
      "0: 608x800 (no detections), 249.1ms\n",
      "Speed: 8.0ms preprocess, 249.1ms inference, 2.0ms postprocess per image at shape (1, 3, 608, 800)\n",
      "\n"
     ]
    },
    {
     "name": "stdout",
     "output_type": "stream",
     "text": [
      "Values are not available\n"
     ]
    },
    {
     "name": "stderr",
     "output_type": "stream",
     "text": [
      "0: 608x800 (no detections), 249.1ms\n",
      "Speed: 7.0ms preprocess, 249.1ms inference, 1.0ms postprocess per image at shape (1, 3, 608, 800)\n",
      "\n"
     ]
    },
    {
     "name": "stdout",
     "output_type": "stream",
     "text": [
      "Values are not available\n"
     ]
    },
    {
     "name": "stderr",
     "output_type": "stream",
     "text": [
      "0: 608x800 (no detections), 249.1ms\n",
      "Speed: 7.0ms preprocess, 249.1ms inference, 2.0ms postprocess per image at shape (1, 3, 608, 800)\n"
     ]
    },
    {
     "name": "stdout",
     "output_type": "stream",
     "text": [
      "Values are not available\n",
      "Min ratio: 1.0177338348308955\n",
      "Max ratio: 1.0362540526635537\n"
     ]
    }
   ],
   "source": [
    "import cv2\n",
    "from ultralytics import YOLO\n",
    "\n",
    "# Load your trained model\n",
    "model = YOLO('../model_versions/bestV1.pt')\n",
    "\n",
    "# Capture video from the camera\n",
    "cap = cv2.VideoCapture(0)\n",
    "# List to store the ratios of ratio_lh_th\n",
    "ratios0 = []\n",
    "while True:\n",
    "    ret, frame = cap.read()\n",
    "    if not ret:\n",
    "        break\n",
    "\n",
    "    # Run YOLOv8 inference\n",
    "    results = model(frame)\n",
    "        # Move results to CPU and convert to numpy\n",
    "    boxes = results[0].boxes.cpu().numpy()\n",
    "    x1H_l, y1H_l, x2H_l, y2H_l = None, None, None, None\n",
    "    x1logo, y1logo, x2logo, y2logo = None, None, None, None\n",
    "    x1text, y1text, x2text, y2text = None, None, None, None\n",
    "    for box in boxes:\n",
    "        xyxy = box.xyxy[0]\n",
    "       \n",
    "        cls = int(box.cls[0])\n",
    "        conf = float(box.conf[0])\n",
    "        if(cls==0):\n",
    "             x1H_l, y1H_l, x2H_l, y2H_l = map(float, xyxy)\n",
    "        if(cls==1):\n",
    "             x1logo, y1logo, x2logo, y2logo = map(float, xyxy)\n",
    "        if(cls == 2 ):\n",
    "            x1text, y1text, x2text, y2text = map(float, xyxy)\n",
    "    \n",
    "    \n",
    "    if x1H_l is not None and x1logo is not None and x1H_l is not None and x1text is not None:\n",
    "        Xdis_between_logo_and_h_l = x1logo - x1H_l\n",
    "        Xdis_between_text_and_h_l = x1text - x1H_l\n",
    "        print(Xdis_between_logo_and_h_l)\n",
    "        print(Xdis_between_text_and_h_l)\n",
    "        ratio_lh_th = Xdis_between_logo_and_h_l/Xdis_between_text_and_h_l\n",
    "        print(ratio_lh_th)\n",
    "        ratios0.append(ratio_lh_th)\n",
    "    else:\n",
    "        print(\"Values are not available\")\n",
    "   \n",
    "    \n",
    "\n",
    "    # Display the results\n",
    "    cv2.imshow('YOLOv8 Inference', results[0].plot())\n",
    "\n",
    "    if cv2.waitKey(1) & 0xFF == ord('q'):\n",
    "        break\n",
    "\n",
    "\n",
    "            \n",
    "            \n",
    "        \n",
    "\n",
    "       \n",
    "    #print(\"x1: \", x1, \"y1: \", y1, \"x2: \", x2, \"y2: \", y2, \"cls: \", cls, \"conf: \", conf)\n",
    "\n",
    "cap.release()\n",
    "cv2.destroyAllWindows()\n",
    "if ratios0:\n",
    "    min_ratio0 = min(ratios0)\n",
    "    max_ratio0 = max(ratios0)\n",
    "    print(f\"Min ratio: {min_ratio0}\")\n",
    "    print(f\"Max ratio: {max_ratio0}\")\n",
    "else:\n",
    "    print(\"No ratios calculated.\")\n"
   ]
  },
  {
   "cell_type": "markdown",
   "id": "dc9ca2d2",
   "metadata": {},
   "source": [
    "# notes\n",
    "\n"
   ]
  }
 ],
 "metadata": {
  "kernelspec": {
   "display_name": "Python 3",
   "language": "python",
   "name": "python3"
  },
  "language_info": {
   "codemirror_mode": {
    "name": "ipython",
    "version": 3
   },
   "file_extension": ".py",
   "mimetype": "text/x-python",
   "name": "python",
   "nbconvert_exporter": "python",
   "pygments_lexer": "ipython3",
   "version": "3.8.8"
  }
 },
 "nbformat": 4,
 "nbformat_minor": 5
}
